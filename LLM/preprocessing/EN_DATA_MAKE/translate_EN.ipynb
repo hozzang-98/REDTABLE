{
 "cells": [
  {
   "cell_type": "code",
   "execution_count": 1,
   "metadata": {},
   "outputs": [],
   "source": [
    "from tqdm import tqdm\n",
    "\n",
    "import pandas as pd\n",
    "pd.set_option('mode.chained_assignment',  None)\n",
    "\n",
    "import pymysql, os\n",
    "\n",
    "from openai import OpenAI\n",
    "\n",
    "from sklearn.model_selection import train_test_split\n",
    "\n",
    "def live_db_conn():\n",
    "    conn = pymysql.connect(host='host', user='user', password='password',autocommit=True,cursorclass=pymysql.cursors.DictCursor, db = \"db\")\n",
    "    return conn"
   ]
  },
  {
   "cell_type": "code",
   "execution_count": 2,
   "metadata": {},
   "outputs": [
    {
     "data": {
      "text/html": [
       "<div>\n",
       "<style scoped>\n",
       "    .dataframe tbody tr th:only-of-type {\n",
       "        vertical-align: middle;\n",
       "    }\n",
       "\n",
       "    .dataframe tbody tr th {\n",
       "        vertical-align: top;\n",
       "    }\n",
       "\n",
       "    .dataframe thead th {\n",
       "        text-align: right;\n",
       "    }\n",
       "</style>\n",
       "<table border=\"1\" class=\"dataframe\">\n",
       "  <thead>\n",
       "    <tr style=\"text-align: right;\">\n",
       "      <th></th>\n",
       "      <th>SPEAKER</th>\n",
       "      <th>MQ</th>\n",
       "      <th>개체명</th>\n",
       "      <th>지식베이스</th>\n",
       "      <th>intent_cat</th>\n",
       "    </tr>\n",
       "  </thead>\n",
       "  <tbody>\n",
       "    <tr>\n",
       "      <th>0</th>\n",
       "      <td>고객</td>\n",
       "      <td>거기 둥지 짬뽕이죠?</td>\n",
       "      <td>둥지 짬뽕</td>\n",
       "      <td>둥지 짬뽕/상호</td>\n",
       "      <td>매장_상품정보</td>\n",
       "    </tr>\n",
       "    <tr>\n",
       "      <th>1</th>\n",
       "      <td>고객</td>\n",
       "      <td>김밥 전문집이죠?</td>\n",
       "      <td>김밥, 전문집</td>\n",
       "      <td>김밥/메뉴</td>\n",
       "      <td>매장_상품정보</td>\n",
       "    </tr>\n",
       "    <tr>\n",
       "      <th>2</th>\n",
       "      <td>고객</td>\n",
       "      <td>사천성인가요?</td>\n",
       "      <td>사천성</td>\n",
       "      <td>사천성/상호</td>\n",
       "      <td>매장_상품정보</td>\n",
       "    </tr>\n",
       "    <tr>\n",
       "      <th>3</th>\n",
       "      <td>고객</td>\n",
       "      <td>루완이죠?</td>\n",
       "      <td>루완</td>\n",
       "      <td>루완/상호</td>\n",
       "      <td>매장_상품정보</td>\n",
       "    </tr>\n",
       "    <tr>\n",
       "      <th>4</th>\n",
       "      <td>고객</td>\n",
       "      <td>월령소바죠?</td>\n",
       "      <td>월령소바</td>\n",
       "      <td>월령소바/상호</td>\n",
       "      <td>매장_상품정보</td>\n",
       "    </tr>\n",
       "  </tbody>\n",
       "</table>\n",
       "</div>"
      ],
      "text/plain": [
       "  SPEAKER           MQ      개체명     지식베이스 intent_cat\n",
       "0      고객  거기 둥지 짬뽕이죠?    둥지 짬뽕  둥지 짬뽕/상호    매장_상품정보\n",
       "1      고객    김밥 전문집이죠?  김밥, 전문집     김밥/메뉴    매장_상품정보\n",
       "2      고객      사천성인가요?      사천성    사천성/상호    매장_상품정보\n",
       "3      고객        루완이죠?       루완     루완/상호    매장_상품정보\n",
       "4      고객       월령소바죠?     월령소바   월령소바/상호    매장_상품정보"
      ]
     },
     "execution_count": 2,
     "metadata": {},
     "output_type": "execute_result"
    }
   ],
   "source": [
    "r_food_d = pd.read_excel('./input/food_d.xlsx',index_col=0)\n",
    "\n",
    "r_food_d = r_food_d[r_food_d['intent_cat'] != '삭제']\n",
    "r_food_d = r_food_d[~r_food_d['지식베이스'].isnull()]\n",
    "\n",
    "r_food_d.reset_index(inplace=True)\n",
    "r_food_d.drop('index',axis=1,inplace=True)\n",
    "r_food_d.head()"
   ]
  },
  {
   "cell_type": "code",
   "execution_count": 3,
   "metadata": {},
   "outputs": [],
   "source": [
    "total_kb_list = []\n",
    "\n",
    "for rows in r_food_d[~r_food_d['지식베이스'].isnull()]['지식베이스'].tolist():\n",
    "\n",
    "    kb_list = rows.split(', ')\n",
    "\n",
    "    kb_list = [kb.split('/')[1] for kb in kb_list] \n",
    "\n",
    "    total_kb_list.extend(kb_list)\n",
    "\n",
    "total_kb_list = set(total_kb_list)\n",
    "\n",
    "kb_dic = {}\n",
    "kb_list = ['CVC', '가격', '가짓수', '결제방식', '결제종류', '계절', '계좌번호', '공휴일', '교통', '금액', '기능', '기종', '나이',\n",
    " '날짜', '대상', '마감시간', '맛', '맵기', '메뉴', '메뉴정보', '배수', '비율', '사이즈', '상품', '상품권', '상호', '상호명', '색상', '성별', '수량',\n",
    " '시간', '시설', '시즌', '식기', '앱', '양식', '예약시간', '예약인원', '예약일', '예약자', '요일', '위치',\n",
    " '이벤트', '인원', '인증방식', '자리', '장소', '재료', '좌석', '카드사',\n",
    " '카드종류', '캐시백', '쿠폰', '페이먼트', '할인율',\n",
    " '행사', '혜택', '화폐', '횟수']\n",
    "\n",
    "kb_list = ['/'+i for i in kb_list]\n",
    "\n",
    "for k in kb_list:\n",
    "\n",
    "    kb_dic[k] = k.replace('/','|')\n",
    "\n",
    "FADF_KB = r_food_d['지식베이스'].tolist()\n",
    "x_list = []\n",
    "\n",
    "for x in FADF_KB:\n",
    "\n",
    "    if type(x) == float:\n",
    "\n",
    "        x_list.append(x)\n",
    "\n",
    "    else:\n",
    "        \n",
    "        for k,v in kb_dic.items():\n",
    "\n",
    "            if k in x:\n",
    "\n",
    "                x = x.replace(k,v)\n",
    "            \n",
    "        x_list.append(x)\n",
    "\n",
    "r_food_d['지식베이스'] = x_list"
   ]
  },
  {
   "cell_type": "code",
   "execution_count": 1,
   "metadata": {},
   "outputs": [],
   "source": [
    "# RT API GPT4\n",
    "%env OPENAI_API_KEY=OPENAI_API_KEY\n",
    "\n",
    "open_api_key = os.getenv(\"OPENAI_API_KEY\")\n",
    "\n",
    "client = OpenAI(\n",
    "    # This is the default and can be omitted\n",
    "    api_key=os.environ.get('OPENAI_API_KEY'),\n",
    ")"
   ]
  },
  {
   "cell_type": "code",
   "execution_count": 38,
   "metadata": {},
   "outputs": [
    {
     "name": "stderr",
     "output_type": "stream",
     "text": [
      "  0%|          | 1/386 [00:01<08:41,  1.35s/it]"
     ]
    },
    {
     "name": "stdout",
     "output_type": "stream",
     "text": [
      "\"\"\n",
      "Output: \n",
      "Sentence: 'Is Onnuri gift certificate available too?',\n",
      "Knowledge: '온누리 상품권->Onnuri gift certificate'\n",
      "\"\"\n"
     ]
    },
    {
     "name": "stderr",
     "output_type": "stream",
     "text": [
      "  1%|          | 2/386 [00:02<07:50,  1.22s/it]"
     ]
    },
    {
     "name": "stdout",
     "output_type": "stream",
     "text": [
      "Output:\n",
      "Sentence: 'Can I use a gift card for payment?'\n",
      "Knowledge: '상품권->gift card'\n"
     ]
    },
    {
     "name": "stderr",
     "output_type": "stream",
     "text": [
      "  1%|          | 3/386 [00:03<08:13,  1.29s/it]"
     ]
    },
    {
     "name": "stdout",
     "output_type": "stream",
     "text": [
      "\"\"\n",
      "Output: \n",
      "Sentence: 'Is fruit juice made from fresh fruits?',\n",
      "Knowledge: '과일주스->fruit juice', '생과일->fresh fruits'\n",
      "\"\"\n"
     ]
    },
    {
     "name": "stderr",
     "output_type": "stream",
     "text": [
      "  1%|          | 4/386 [00:05<08:23,  1.32s/it]"
     ]
    },
    {
     "name": "stdout",
     "output_type": "stream",
     "text": [
      "\"\"\n",
      "                            Sentence: 'Is nakji in nakji dakgalbi frozen?'\n",
      "                            Knowledge: '낙지 닭갈비->nakji dakgalbi', '낙지->nakji'\n",
      "                            \"\"\n"
     ]
    },
    {
     "name": "stderr",
     "output_type": "stream",
     "text": [
      "  1%|▏         | 5/386 [00:06<07:51,  1.24s/it]"
     ]
    },
    {
     "name": "stdout",
     "output_type": "stream",
     "text": [
      "\"\n",
      "Sentence: 'It's not ecology but pollock, right?',\n",
      "Knowledge: '생태->ecology', '동태->pollock'\n",
      "\"\n"
     ]
    },
    {
     "name": "stderr",
     "output_type": "stream",
     "text": [
      "  2%|▏         | 6/386 [00:07<07:38,  1.21s/it]"
     ]
    },
    {
     "name": "stdout",
     "output_type": "stream",
     "text": [
      "\"\n",
      "                            Sentence: 'Is squid live squid?'\n",
      "                            Knowledge: '낙지->squid', '생낙지->live squid'\n",
      "                            \"\n"
     ]
    },
    {
     "name": "stderr",
     "output_type": "stream",
     "text": [
      "  2%|▏         | 7/386 [00:08<07:59,  1.27s/it]"
     ]
    },
    {
     "name": "stdout",
     "output_type": "stream",
     "text": [
      "\"\n",
      "Sentence: 'On your birthday, there's a menu item that is free. What is that?'\n",
      "Knowledge: '생일->birthday', '한가지->one', '무료->free'\n",
      "\"\n"
     ]
    },
    {
     "name": "stderr",
     "output_type": "stream",
     "text": [
      "  2%|▏         | 8/386 [00:10<07:57,  1.26s/it]"
     ]
    },
    {
     "name": "stdout",
     "output_type": "stream",
     "text": [
      "\"\"\n",
      "Output: \n",
      "Sentence: 'How many kinds of jjamppong are there?',\n",
      "Knowledge: '짬뽕->jjamppong', '몇 가지->how many kinds' \n",
      "\"\"\n"
     ]
    },
    {
     "name": "stderr",
     "output_type": "stream",
     "text": [
      "  2%|▏         | 9/386 [00:11<07:17,  1.16s/it]"
     ]
    },
    {
     "name": "stdout",
     "output_type": "stream",
     "text": [
      "\"\"\n",
      "                            Sentence: 'How many types of sushi are there?',\n",
      "                            Knowledge: '스시->sushi'\n",
      "                            \"\"\n"
     ]
    },
    {
     "name": "stderr",
     "output_type": "stream",
     "text": [
      "  3%|▎         | 10/386 [00:12<07:00,  1.12s/it]"
     ]
    },
    {
     "name": "stdout",
     "output_type": "stream",
     "text": [
      "\n",
      "Output: \n",
      "Sentence: 'Is there any pasta with cheese on top?',\n",
      "Knowledge: '파스타->pasta'\n"
     ]
    },
    {
     "name": "stderr",
     "output_type": "stream",
     "text": [
      "  3%|▎         | 11/386 [00:13<06:38,  1.06s/it]"
     ]
    },
    {
     "name": "stdout",
     "output_type": "stream",
     "text": [
      "\"\n",
      "Sentence: 'Do you have a form here?',\n",
      "Knowledge: '양식->form'\n",
      "\"\n"
     ]
    },
    {
     "name": "stderr",
     "output_type": "stream",
     "text": [
      "  3%|▎         | 12/386 [00:14<06:46,  1.09s/it]"
     ]
    },
    {
     "name": "stdout",
     "output_type": "stream",
     "text": [
      "\"\n",
      "                            Sentence: 'Does salad only have one kind?',\n",
      "                            Knowledge: '샐러드->salad', '한 가지->one kind'\n",
      "                            \"\n"
     ]
    },
    {
     "name": "stderr",
     "output_type": "stream",
     "text": [
      "  3%|▎         | 13/386 [00:15<06:51,  1.10s/it]"
     ]
    },
    {
     "name": "stdout",
     "output_type": "stream",
     "text": [
      "\"\"\n",
      "                            Sentence: 'I want to eat steak, but how should I?'\n",
      "                            Knowledge: '스테이크->steak'\n",
      "                            \"\"\n"
     ]
    },
    {
     "name": "stderr",
     "output_type": "stream",
     "text": [
      "  4%|▎         | 14/386 [00:16<06:42,  1.08s/it]"
     ]
    },
    {
     "name": "stdout",
     "output_type": "stream",
     "text": [
      "\"\n",
      "Sentence: 'It is not rice, it is steak',\n",
      "Knowledge: '밥->rice', '스테이크->steak'\n",
      "\"\n"
     ]
    },
    {
     "name": "stderr",
     "output_type": "stream",
     "text": [
      "  4%|▍         | 15/386 [00:17<06:43,  1.09s/it]"
     ]
    },
    {
     "name": "stdout",
     "output_type": "stream",
     "text": [
      "\"\"\n",
      "Output: \n",
      "Sentence: 'I want to eat meat steak',\n",
      "Knowledge: '고기->meat', '스테이크->steak'\"\n"
     ]
    },
    {
     "name": "stderr",
     "output_type": "stream",
     "text": [
      "  4%|▍         | 16/386 [00:18<06:38,  1.08s/it]"
     ]
    },
    {
     "name": "stdout",
     "output_type": "stream",
     "text": [
      "\"\"\n",
      "Sentence: 'Is steak like this in the picture?',\n",
      "Knowledge: '스테이크->steak'\n",
      "\"\"\n"
     ]
    },
    {
     "name": "stderr",
     "output_type": "stream",
     "text": [
      "  4%|▍         | 17/386 [00:19<06:49,  1.11s/it]"
     ]
    },
    {
     "name": "stdout",
     "output_type": "stream",
     "text": [
      "Output: \n",
      "Sentence: 'Is there a pasta menu? Can I eat alone?'\n",
      "Knowledge: '파스타->pasta', '혼자->alone'\n"
     ]
    },
    {
     "name": "stderr",
     "output_type": "stream",
     "text": [
      "  5%|▍         | 18/386 [00:20<07:08,  1.16s/it]"
     ]
    },
    {
     "name": "stdout",
     "output_type": "stream",
     "text": [
      "\n",
      "Output: \n",
      "Sentence: 'The fastest one to come out is bean sprout rice soup, right?',\n",
      "Knowledge: '콩나물 국밥->bean sprout rice soup'\n"
     ]
    },
    {
     "name": "stderr",
     "output_type": "stream",
     "text": [
      "  5%|▍         | 19/386 [00:22<07:36,  1.24s/it]"
     ]
    },
    {
     "name": "stdout",
     "output_type": "stream",
     "text": [
      "\"\"\n",
      "Sentence: 'If it's two o'clock in the afternoon, can we have a group seating?',\n",
      "Knowledge: '오후 두시->two o'clock', '단체석->group seating'\n",
      "\"\"\n"
     ]
    },
    {
     "name": "stderr",
     "output_type": "stream",
     "text": [
      "  5%|▌         | 20/386 [00:23<06:59,  1.15s/it]"
     ]
    },
    {
     "name": "stdout",
     "output_type": "stream",
     "text": [
      "\"\"\n",
      "Sentence: 'Please give me just one business card',\n",
      "Knowledge: '하나->one'\"\"\n"
     ]
    },
    {
     "name": "stderr",
     "output_type": "stream",
     "text": [
      "  5%|▌         | 21/386 [00:24<06:36,  1.09s/it]"
     ]
    },
    {
     "name": "stdout",
     "output_type": "stream",
     "text": [
      "\"\"\n",
      "                            Sentence: 'I will take one business card',\n",
      "                            Knowledge: '하나->one'\n",
      "                            \"\"\n"
     ]
    },
    {
     "name": "stderr",
     "output_type": "stream",
     "text": [
      "  6%|▌         | 22/386 [00:25<06:29,  1.07s/it]"
     ]
    },
    {
     "name": "stdout",
     "output_type": "stream",
     "text": [
      "\"\"\n",
      "Output: \n",
      "Sentence: 'Can I reserve a group seat?',\n",
      "Knowledge: '단체석->group seat' \n",
      "\"\"\n"
     ]
    },
    {
     "name": "stderr",
     "output_type": "stream",
     "text": [
      "  6%|▌         | 23/386 [00:26<06:36,  1.09s/it]"
     ]
    },
    {
     "name": "stdout",
     "output_type": "stream",
     "text": [
      "Output: \n",
      "Sentence: 'Is there a seat for 6 people to sit together?',\n",
      "Knowledge: '6명->6 people'\n"
     ]
    },
    {
     "name": "stderr",
     "output_type": "stream",
     "text": [
      "  6%|▌         | 24/386 [00:27<06:17,  1.04s/it]"
     ]
    },
    {
     "name": "stdout",
     "output_type": "stream",
     "text": [
      "\n",
      "Output: \n",
      "Sentence: 'Is there 4 people?',\n",
      "Knowledge: '4명->4 people'\n"
     ]
    },
    {
     "name": "stderr",
     "output_type": "stream",
     "text": [
      "  6%|▋         | 25/386 [00:28<06:21,  1.06s/it]"
     ]
    },
    {
     "name": "stdout",
     "output_type": "stream",
     "text": [
      "\"\n",
      "Output: \n",
      "Sentence: 'Do we have seats for our group of 6 people?',\n",
      "Knowledge: '6명->6 people'\n",
      "\"\n"
     ]
    },
    {
     "name": "stderr",
     "output_type": "stream",
     "text": [
      "  7%|▋         | 26/386 [00:29<06:08,  1.02s/it]"
     ]
    },
    {
     "name": "stdout",
     "output_type": "stream",
     "text": [
      "\"\"\n",
      "Output: \n",
      "Sentence: 'Are there 4 seats available?',\n",
      "Knowledge: '4명->4'\"\"\n"
     ]
    },
    {
     "name": "stderr",
     "output_type": "stream",
     "text": [
      "  7%|▋         | 27/386 [00:30<06:26,  1.08s/it]"
     ]
    },
    {
     "name": "stdout",
     "output_type": "stream",
     "text": [
      "\"\"\n",
      "Sentence: 'There are 5 people, but 3 more are coming later.',\n",
      "Knowledge: '5명->5 people', '3명->3 more'\"\n"
     ]
    },
    {
     "name": "stderr",
     "output_type": "stream",
     "text": [
      "  7%|▋         | 28/386 [00:31<06:44,  1.13s/it]"
     ]
    },
    {
     "name": "stdout",
     "output_type": "stream",
     "text": [
      "\n",
      "Output: \n",
      "Sentence: 'But please add one more person',\n",
      "Knowledge: '한 명->one person'\n"
     ]
    },
    {
     "name": "stderr",
     "output_type": "stream",
     "text": [
      "  8%|▊         | 29/386 [00:32<06:23,  1.08s/it]"
     ]
    },
    {
     "name": "stdout",
     "output_type": "stream",
     "text": [
      "\n",
      "Output: \n",
      "Sentence: 'Is the group size ten?'\n",
      "Knowledge: '열 명->ten'\n"
     ]
    },
    {
     "name": "stderr",
     "output_type": "stream",
     "text": [
      "  8%|▊         | 30/386 [00:34<06:42,  1.13s/it]"
     ]
    },
    {
     "name": "stdout",
     "output_type": "stream",
     "text": [
      "Output: \n",
      "Sentence: 'Was there no spicy tuna kimbap?',\n",
      "Knowledge: '매콤 참치김밥->spicy tuna kimbap'\n"
     ]
    },
    {
     "name": "stderr",
     "output_type": "stream",
     "text": [
      "  8%|▊         | 31/386 [00:35<07:26,  1.26s/it]"
     ]
    },
    {
     "name": "stdout",
     "output_type": "stream",
     "text": [
      "\"\n",
      "Sentence: 'Can you deliver one sweet and sour pork and one jjamppong to my address?',\n",
      "Knowledge: '#주소#->address', '탕수육->sweet and sour pork', '하나->one', '짬뽕->jjamppong', '하나->one'\n",
      "\"\n"
     ]
    },
    {
     "name": "stderr",
     "output_type": "stream",
     "text": [
      "  8%|▊         | 32/386 [00:36<07:03,  1.20s/it]"
     ]
    },
    {
     "name": "stdout",
     "output_type": "stream",
     "text": [
      "\n",
      "Output: \n",
      "Sentence: 'It looks like they specialize in delivery here rather than dining in the restaurant.',\n",
      "Knowledge: '홀->restaurant'\n"
     ]
    },
    {
     "name": "stderr",
     "output_type": "stream",
     "text": [
      "  9%|▊         | 33/386 [00:37<06:51,  1.17s/it]"
     ]
    },
    {
     "name": "stdout",
     "output_type": "stream",
     "text": [
      "Output: \n",
      "Sentence: 'Is this in front of the address?', \n",
      "Knowledge: '#주소# 앞->front of the address'\n"
     ]
    },
    {
     "name": "stderr",
     "output_type": "stream",
     "text": [
      "  9%|▉         | 34/386 [00:39<07:15,  1.24s/it]"
     ]
    },
    {
     "name": "stdout",
     "output_type": "stream",
     "text": [
      "\n",
      "Output: \n",
      "Sentence: 'Is it also lunch at 57,000 won?'\n",
      "Knowledge: '57000원->57,000 won', '런치->lunch'\n"
     ]
    },
    {
     "name": "stderr",
     "output_type": "stream",
     "text": [
      "  9%|▉         | 35/386 [00:40<06:58,  1.19s/it]"
     ]
    },
    {
     "name": "stdout",
     "output_type": "stream",
     "text": [
      "\"\"\n",
      "                            Sentence: 'Is it possible to order lunch menu now?',\n",
      "                            Knowledge: '런치메뉴->lunch menu'\n",
      "                            \"\"\n"
     ]
    },
    {
     "name": "stderr",
     "output_type": "stream",
     "text": [
      "  9%|▉         | 36/386 [00:41<06:55,  1.19s/it]"
     ]
    },
    {
     "name": "stdout",
     "output_type": "stream",
     "text": [
      "Output: \n",
      "Sentence: 'Is there a lunch special?',\n",
      "Knowledge: '점심 특선->lunch special'\n"
     ]
    },
    {
     "name": "stderr",
     "output_type": "stream",
     "text": [
      " 10%|▉         | 37/386 [00:42<06:47,  1.17s/it]"
     ]
    },
    {
     "name": "stdout",
     "output_type": "stream",
     "text": [
      "\"\n",
      "Sentence: 'How can I use a drink discount coupon?',\n",
      "Knowledge: '음료 할인권->drink discount coupon'\n",
      "\"\n"
     ]
    },
    {
     "name": "stderr",
     "output_type": "stream",
     "text": [
      " 10%|▉         | 38/386 [00:43<07:02,  1.21s/it]"
     ]
    },
    {
     "name": "stdout",
     "output_type": "stream",
     "text": [
      "\"\"\n",
      "Output: \n",
      "Sentence: 'Can I use a coupon for the dinner set for 4 people?',\n",
      "Knowledge: '디너 4인 세트->dinner set for 4 people' \n",
      "\"\"\n"
     ]
    },
    {
     "name": "stderr",
     "output_type": "stream",
     "text": [
      " 10%|█         | 39/386 [00:45<07:10,  1.24s/it]"
     ]
    },
    {
     "name": "stdout",
     "output_type": "stream",
     "text": [
      "\"\"\n",
      "Output: \n",
      "Sentence: 'If I use this coupon, will I get dumplings for free?',\n",
      "Knowledge: '만두->dumplings', '공짜->free'\"\n"
     ]
    },
    {
     "name": "stderr",
     "output_type": "stream",
     "text": [
      " 10%|█         | 40/386 [00:46<07:27,  1.29s/it]"
     ]
    },
    {
     "name": "stdout",
     "output_type": "stream",
     "text": [
      "\"\n",
      "                            Sentence: 'I made a reservation for two people at 7 o'clock.',\n",
      "                            Knowledge: '7시->7 o'clock', '2명->two people'\n",
      "                            \"    \n"
     ]
    },
    {
     "name": "stderr",
     "output_type": "stream",
     "text": [
      " 11%|█         | 41/386 [00:47<07:28,  1.30s/it]"
     ]
    },
    {
     "name": "stdout",
     "output_type": "stream",
     "text": [
      "\n",
      "번역 결과: \n",
      "Sentence: 'I made a reservation for 7 o'clock, but where is the seat?',\n",
      "Knowledge: '7시->7 o'clock'\n"
     ]
    },
    {
     "name": "stderr",
     "output_type": "stream",
     "text": [
      " 11%|█         | 42/386 [00:49<07:28,  1.30s/it]"
     ]
    },
    {
     "name": "stdout",
     "output_type": "stream",
     "text": [
      "\"\"\n",
      "                            Sentence: 'I made a reservation for 2 people at 6 o'clock.',\n",
      "                            Knowledge: '6시->6 o'clock', '2명->2 people'\n",
      "                            \"\"\n"
     ]
    },
    {
     "name": "stderr",
     "output_type": "stream",
     "text": [
      " 11%|█         | 43/386 [00:50<07:16,  1.27s/it]"
     ]
    },
    {
     "name": "stdout",
     "output_type": "stream",
     "text": [
      "\"\"\n",
      "Sentence: 'I made a reservation for seven o'clock over the phone',\n",
      "Knowledge: '일곱시->seven o'clock'\n",
      "\"\"\n"
     ]
    },
    {
     "name": "stderr",
     "output_type": "stream",
     "text": [
      " 11%|█▏        | 44/386 [00:51<06:44,  1.18s/it]"
     ]
    },
    {
     "name": "stdout",
     "output_type": "stream",
     "text": [
      "Output: \n",
      "Sentence: 'One more person came.'\n",
      "Knowledge: '한 명->One'\n"
     ]
    },
    {
     "name": "stderr",
     "output_type": "stream",
     "text": [
      " 12%|█▏        | 45/386 [00:52<06:36,  1.16s/it]"
     ]
    },
    {
     "name": "stdout",
     "output_type": "stream",
     "text": [
      "\"\n",
      "Sentence: 'I am the person who made a reservation at 2 o'clock',\n",
      "Knowledge: '2시->2 o'clock'\n",
      "\"\n"
     ]
    },
    {
     "name": "stderr",
     "output_type": "stream",
     "text": [
      " 12%|█▏        | 46/386 [00:53<07:03,  1.25s/it]"
     ]
    },
    {
     "name": "stdout",
     "output_type": "stream",
     "text": [
      "\"\"\n",
      "Output: \n",
      "Sentence: 'I made a reservation at 6 o'clock today',\n",
      "Knowledge: '오늘->today', '6시->6 o'clock'\n",
      "\"\"\n"
     ]
    },
    {
     "name": "stderr",
     "output_type": "stream",
     "text": [
      " 12%|█▏        | 47/386 [00:55<06:59,  1.24s/it]"
     ]
    },
    {
     "name": "stdout",
     "output_type": "stream",
     "text": [
      "\"\"\n",
      "Output: \n",
      "Sentence: 'I made a reservation at 3 o'clock today',\n",
      "Knowledge: '오늘->today', '3시->3 o'clock'\n",
      "\"\"\n"
     ]
    },
    {
     "name": "stderr",
     "output_type": "stream",
     "text": [
      " 12%|█▏        | 48/386 [00:56<06:59,  1.24s/it]"
     ]
    },
    {
     "name": "stdout",
     "output_type": "stream",
     "text": [
      "\"\"\n",
      "Output: \n",
      "Sentence: 'I made a reservation at 7 o'clock with #name#',\n",
      "Knowledge: '7시->7 o'clock', '#이름#->#name#'\n",
      "\"\"\n"
     ]
    },
    {
     "name": "stderr",
     "output_type": "stream",
     "text": [
      " 13%|█▎        | 49/386 [00:57<07:14,  1.29s/it]"
     ]
    },
    {
     "name": "stdout",
     "output_type": "stream",
     "text": [
      "\"\"\n",
      "Output: \n",
      "Sentence: 'I made a reservation for Saturday at two o'clock',\n",
      "Knowledge: '토요일->Saturday', '두시->two o'clock'\n",
      "\"\"\n"
     ]
    },
    {
     "name": "stderr",
     "output_type": "stream",
     "text": [
      " 13%|█▎        | 50/386 [00:58<06:51,  1.23s/it]"
     ]
    },
    {
     "name": "stdout",
     "output_type": "stream",
     "text": [
      "Output: \n",
      "Sentence: 'I made a reservation under the name of #이름#',\n",
      "Knowledge: '#이름#->#이름#'\n"
     ]
    },
    {
     "name": "stderr",
     "output_type": "stream",
     "text": [
      " 13%|█▎        | 51/386 [00:59<06:37,  1.19s/it]"
     ]
    },
    {
     "name": "stdout",
     "output_type": "stream",
     "text": [
      "\"\"\n",
      "Output: \n",
      "Sentence: 'Could you check if the reservation was made under #이름#?',\n",
      "Knowledge: '#이름#->#이름#'\"\"\n"
     ]
    },
    {
     "name": "stderr",
     "output_type": "stream",
     "text": [
      " 13%|█▎        | 52/386 [01:01<07:07,  1.28s/it]"
     ]
    },
    {
     "name": "stdout",
     "output_type": "stream",
     "text": [
      "\"\"\n",
      "Sentence: 'We made a reservation for 4 people at 6 o'clock this evening',\n",
      "Knowledge: '오늘->today', '6시->6 o'clock', '저녁->evening', '4명->4 people'\n",
      "\"\"\n"
     ]
    },
    {
     "name": "stderr",
     "output_type": "stream",
     "text": [
      " 14%|█▎        | 53/386 [01:02<06:51,  1.24s/it]"
     ]
    },
    {
     "name": "stdout",
     "output_type": "stream",
     "text": [
      "\"\"\n",
      "Output: \n",
      "Sentence: 'Three people made a reservation', \n",
      "Knowledge: '3명->Three people' \n",
      "\"\"\n"
     ]
    },
    {
     "name": "stderr",
     "output_type": "stream",
     "text": [
      " 14%|█▍        | 54/386 [01:03<06:33,  1.19s/it]"
     ]
    },
    {
     "name": "stdout",
     "output_type": "stream",
     "text": [
      "Output: \n",
      "Sentence: 'I made a reservation under the name #이름#',\n",
      "Knowledge: '#이름#->name'\n"
     ]
    },
    {
     "name": "stderr",
     "output_type": "stream",
     "text": [
      " 14%|█▍        | 55/386 [01:04<06:27,  1.17s/it]"
     ]
    },
    {
     "name": "stdout",
     "output_type": "stream",
     "text": [
      "Output: \n",
      "Sentence: 'I made a reservation at 1 o'clock, can I go in right away?',\n",
      "Knowledge: '1시->1 o'clock'\n"
     ]
    },
    {
     "name": "stderr",
     "output_type": "stream",
     "text": [
      " 15%|█▍        | 56/386 [01:05<06:14,  1.13s/it]"
     ]
    },
    {
     "name": "stdout",
     "output_type": "stream",
     "text": [
      "\"\"\n",
      "Sentence: 'I made a reservation under the name #이름#',\n",
      "Knowledge: '#이름#->#이름#' \n",
      "\"\"\n"
     ]
    },
    {
     "name": "stderr",
     "output_type": "stream",
     "text": [
      " 15%|█▍        | 57/386 [01:07<06:20,  1.16s/it]"
     ]
    },
    {
     "name": "stdout",
     "output_type": "stream",
     "text": [
      "\"\n",
      "Sentence: 'I made a reservation for #name# at 7 o'clock',\n",
      "Knowledge: '7시->7 o'clock', '#이름#->#name#'\n",
      "\"\n"
     ]
    },
    {
     "name": "stderr",
     "output_type": "stream",
     "text": [
      " 15%|█▌        | 58/386 [01:08<06:33,  1.20s/it]"
     ]
    },
    {
     "name": "stdout",
     "output_type": "stream",
     "text": [
      "\"\"\n",
      "                            Sentence: 'To order frozen pork and fried dumplings, I heard that you need to contact them in advance.',\n",
      "                            Knowledge: '동파육->frozen pork', '멘보샤->fried dumplings'\n",
      "                            \"\"\n"
     ]
    },
    {
     "name": "stderr",
     "output_type": "stream",
     "text": [
      " 15%|█▌        | 59/386 [01:10<08:35,  1.58s/it]"
     ]
    },
    {
     "name": "stdout",
     "output_type": "stream",
     "text": [
      "\"\"\n",
      "Sentence: 'Can the course meal start right away?',\n",
      "Knowledge: '코스 요리->course meal'\n",
      "\"\"\n"
     ]
    },
    {
     "name": "stderr",
     "output_type": "stream",
     "text": [
      " 16%|█▌        | 60/386 [01:11<07:33,  1.39s/it]"
     ]
    },
    {
     "name": "stdout",
     "output_type": "stream",
     "text": [
      "\"\n",
      "                            Sentence: 'Please give me course A',\n",
      "                            Knowledge: '코스 A->course A'\n",
      "                            \"\n"
     ]
    },
    {
     "name": "stderr",
     "output_type": "stream",
     "text": [
      " 16%|█▌        | 61/386 [01:12<06:52,  1.27s/it]"
     ]
    },
    {
     "name": "stdout",
     "output_type": "stream",
     "text": [
      "Output: \n",
      "Sentence: 'Where is the bathroom?'\n",
      "Knowledge: '화장실->bathroom'\n"
     ]
    },
    {
     "name": "stderr",
     "output_type": "stream",
     "text": [
      " 16%|█▌        | 62/386 [01:13<06:22,  1.18s/it]"
     ]
    },
    {
     "name": "stdout",
     "output_type": "stream",
     "text": [
      "\"\"\n",
      "Sentence: 'Can I use a card at the Seoul store?',\n",
      "Knowledge: '서울->Seoul' \n",
      "\"\"\n"
     ]
    },
    {
     "name": "stderr",
     "output_type": "stream",
     "text": [
      " 16%|█▋        | 63/386 [01:14<06:08,  1.14s/it]"
     ]
    },
    {
     "name": "stdout",
     "output_type": "stream",
     "text": [
      "Output: \n",
      "Sentence: 'Can I find a credit card in Jeju Island?',\n",
      "Knowledge: '제주도->Jeju Island'\n"
     ]
    },
    {
     "name": "stderr",
     "output_type": "stream",
     "text": [
      " 17%|█▋        | 64/386 [01:15<06:11,  1.15s/it]"
     ]
    },
    {
     "name": "stdout",
     "output_type": "stream",
     "text": [
      "\n",
      "Output: \n",
      "Sentence: 'Can I find my card at Kimpo Airport?',\n",
      "Knowledge: '김포공항->Kimpo Airport'\n"
     ]
    },
    {
     "name": "stderr",
     "output_type": "stream",
     "text": [
      " 17%|█▋        | 65/386 [01:16<05:49,  1.09s/it]"
     ]
    },
    {
     "name": "stdout",
     "output_type": "stream",
     "text": [
      "\n",
      "Output: \n",
      "Sentence: 'Can international students use cards?',\n",
      "Knowledge: '유학생->international students'\n"
     ]
    },
    {
     "name": "stderr",
     "output_type": "stream",
     "text": [
      " 17%|█▋        | 66/386 [01:18<06:24,  1.20s/it]"
     ]
    },
    {
     "name": "stdout",
     "output_type": "stream",
     "text": [
      "\"\"\n",
      "                            Sentence: 'Can I recharge my transportation card at the convenience store?',\n",
      "                            Knowledge: '편의점->convenience store'\n",
      "                            \"\"\n"
     ]
    },
    {
     "name": "stderr",
     "output_type": "stream",
     "text": [
      " 17%|█▋        | 67/386 [01:19<06:24,  1.20s/it]"
     ]
    },
    {
     "name": "stdout",
     "output_type": "stream",
     "text": [
      "\"\"\n",
      "                            Sentence: 'When can I recharge if Alipay recharge is not available?',\n",
      "                            Knowledge: '알리페이->Alipay'\n",
      "                            \"\"\n"
     ]
    },
    {
     "name": "stderr",
     "output_type": "stream",
     "text": [
      " 18%|█▊        | 68/386 [01:20<06:15,  1.18s/it]"
     ]
    },
    {
     "name": "stdout",
     "output_type": "stream",
     "text": [
      "\"\n",
      "                            Sentence: 'Do I need to charge in Korean currency when charging my card?',\n",
      "                            Knowledge: '한국돈->Korean currency'\n",
      "                            \"\n"
     ]
    },
    {
     "name": "stderr",
     "output_type": "stream",
     "text": [
      " 18%|█▊        | 69/386 [01:21<05:52,  1.11s/it]"
     ]
    },
    {
     "name": "stdout",
     "output_type": "stream",
     "text": [
      "\"\"\n",
      "Output: \n",
      "Sentence: 'Do they deliver cards within China?',\n",
      "Knowledge: '중국->China' \n",
      "\"\"\n"
     ]
    },
    {
     "name": "stderr",
     "output_type": "stream",
     "text": [
      " 18%|█▊        | 70/386 [01:22<05:37,  1.07s/it]"
     ]
    },
    {
     "name": "stdout",
     "output_type": "stream",
     "text": [
      "\"\"\n",
      "                            Sentence: 'Can I recharge with a VISA card?',\n",
      "                            Knowledge: 'VISA->VISA'\n",
      "                            \"\"\n"
     ]
    },
    {
     "name": "stderr",
     "output_type": "stream",
     "text": [
      " 18%|█▊        | 71/386 [01:23<05:48,  1.11s/it]"
     ]
    },
    {
     "name": "stdout",
     "output_type": "stream",
     "text": [
      "\"\n",
      "                            Sentence: 'Can I use my card in Jeju Island?',\n",
      "                            Knowledge: '제주도->Jeju Island'\n",
      "                            \"\n"
     ]
    },
    {
     "name": "stderr",
     "output_type": "stream",
     "text": [
      " 19%|█▊        | 72/386 [01:25<06:33,  1.25s/it]"
     ]
    },
    {
     "name": "stdout",
     "output_type": "stream",
     "text": [
      "\"\"\n",
      "Output: \n",
      "Sentence: 'For Alipay and WeChat Pay, can only Chinese ID be used?',\n",
      "Knowledge: '알리페이->Alipay', '위챗페이->WeChat Pay', '중국->Chinese' \n",
      "\"\"\n"
     ]
    },
    {
     "name": "stderr",
     "output_type": "stream",
     "text": [
      " 19%|█▉        | 73/386 [01:26<06:11,  1.19s/it]"
     ]
    },
    {
     "name": "stdout",
     "output_type": "stream",
     "text": [
      "\"\"\n",
      "                            Sentence: 'Can I download Android apps?',\n",
      "                            Knowledge: '안드로이드->Android'\n",
      "                            \"\"\n"
     ]
    },
    {
     "name": "stderr",
     "output_type": "stream",
     "text": [
      " 19%|█▉        | 74/386 [01:28<06:46,  1.30s/it]"
     ]
    },
    {
     "name": "stdout",
     "output_type": "stream",
     "text": [
      "\"\"\n",
      "                            Sentence: 'In the authentication method, which one do you use, Chinese mobile phone or email address?',\n",
      "                            Knowledge: '중국휴대폰->Chinese mobile phone', '메일주소->email address'\n",
      "                            \"\"\n"
     ]
    },
    {
     "name": "stderr",
     "output_type": "stream",
     "text": [
      " 19%|█▉        | 75/386 [01:29<06:17,  1.21s/it]"
     ]
    },
    {
     "name": "stdout",
     "output_type": "stream",
     "text": [
      "\"\"\n",
      "Output: \n",
      "Sentence: 'What is the fee for recharging with VISA card?',\n",
      "Knowledge: 'VISA->VISA'\"\n"
     ]
    },
    {
     "name": "stderr",
     "output_type": "stream",
     "text": [
      " 20%|█▉        | 76/386 [01:31<07:34,  1.47s/it]"
     ]
    },
    {
     "name": "stdout",
     "output_type": "stream",
     "text": [
      "\"\"\n",
      "Output: \n",
      "Sentence: 'What are the fees for Alipay and WeChat Pay?',\n",
      "Knowledge: '알리페이->Alipay', '위챗페이->WeChat Pay'\n",
      "\"\"\n"
     ]
    },
    {
     "name": "stderr",
     "output_type": "stream",
     "text": [
      " 20%|█▉        | 77/386 [01:32<07:04,  1.37s/it]"
     ]
    },
    {
     "name": "stdout",
     "output_type": "stream",
     "text": [
      "\"\"\n",
      "                            Sentence: 'Can I charge my card at the convenience store?',\n",
      "                            Knowledge: '편의점->convenience store'\n",
      "                            \"\"\n"
     ]
    },
    {
     "name": "stderr",
     "output_type": "stream",
     "text": [
      " 20%|██        | 78/386 [01:33<06:35,  1.28s/it]"
     ]
    },
    {
     "name": "stdout",
     "output_type": "stream",
     "text": [
      "\"\"\n",
      "Sentence: 'Is the kiosk device installed in places other than the airport?'\n",
      "Knowledge: '키오스크->kiosk'\"\n"
     ]
    },
    {
     "name": "stderr",
     "output_type": "stream",
     "text": [
      " 20%|██        | 79/386 [01:34<06:11,  1.21s/it]"
     ]
    },
    {
     "name": "stdout",
     "output_type": "stream",
     "text": [
      "\"\n",
      "Output: \n",
      "Sentence: 'Can you charge in Korean currency at the kiosk machine?'\n",
      "Knowledge: '키오스크->kiosk'\n",
      "\"\n"
     ]
    },
    {
     "name": "stderr",
     "output_type": "stream",
     "text": [
      " 21%|██        | 80/386 [01:35<06:03,  1.19s/it]"
     ]
    },
    {
     "name": "stdout",
     "output_type": "stream",
     "text": [
      "\"\"\n",
      "                            Sentence: 'Is there no option for WeChat top-up in the NAMANE app?',\n",
      "                            Knowledge: 'NAMANE->NAMANE'\n",
      "                            \"\"                            \n",
      "                            \n"
     ]
    },
    {
     "name": "stderr",
     "output_type": "stream",
     "text": [
      " 21%|██        | 81/386 [01:36<06:17,  1.24s/it]"
     ]
    },
    {
     "name": "stdout",
     "output_type": "stream",
     "text": [
      "\"\"\n",
      "Output: \n",
      "Sentence: 'Is there a place in Daegu where I can find a card?',\n",
      "Knowledge: '대구->Daegu'\"\n"
     ]
    },
    {
     "name": "stderr",
     "output_type": "stream",
     "text": [
      " 21%|██        | 82/386 [01:38<06:30,  1.28s/it]"
     ]
    },
    {
     "name": "stdout",
     "output_type": "stream",
     "text": [
      "\"\"\n",
      "Output: \n",
      "Sentence: 'If I use a card, will I get cashback even if I use public transportation?', \n",
      "Knowledge: '페이백->cashback' \n",
      "\"\"\n"
     ]
    },
    {
     "name": "stderr",
     "output_type": "stream",
     "text": [
      " 22%|██▏       | 83/386 [01:39<06:09,  1.22s/it]"
     ]
    },
    {
     "name": "stdout",
     "output_type": "stream",
     "text": [
      "\"\"\n",
      "Sentence: 'Do cashbacks automatically deposit the amount into the card?',\n",
      "Knowledge: '페이백->cashback'\"\"\n"
     ]
    },
    {
     "name": "stderr",
     "output_type": "stream",
     "text": [
      " 22%|██▏       | 84/386 [01:40<05:55,  1.18s/it]"
     ]
    },
    {
     "name": "stdout",
     "output_type": "stream",
     "text": [
      "Output: \n",
      "Sentence: 'Can I top up with Chinese currency?',\n",
      "Knowledge: '중국->Chinese'\n"
     ]
    },
    {
     "name": "stderr",
     "output_type": "stream",
     "text": [
      " 22%|██▏       | 85/386 [01:41<05:51,  1.17s/it]"
     ]
    },
    {
     "name": "stdout",
     "output_type": "stream",
     "text": [
      "\"\"\n",
      "                            Sentence: 'What is the fee for recharging Alipay?',\n",
      "                            Knowledge: '알리페이->Alipay'\n",
      "                            \"\"\n"
     ]
    },
    {
     "name": "stderr",
     "output_type": "stream",
     "text": [
      " 22%|██▏       | 86/386 [01:42<05:41,  1.14s/it]"
     ]
    },
    {
     "name": "stdout",
     "output_type": "stream",
     "text": [
      "\n",
      "Output: \n",
      "Sentence: 'Is wowpass card more convenient to use compared to others?',\n",
      "Knowledge: 'wowpass->wowpass'\n"
     ]
    },
    {
     "name": "stderr",
     "output_type": "stream",
     "text": [
      " 23%|██▎       | 87/386 [01:43<05:52,  1.18s/it]"
     ]
    },
    {
     "name": "stdout",
     "output_type": "stream",
     "text": [
      "\"\"\n",
      "Sentence: 'Is this a Chinese travel agency? Can I inquire more about the card through WeChat?',\n",
      "Knowledge: '중국->Chinese', '위챗->WeChat'\n",
      "\"\"\n"
     ]
    },
    {
     "name": "stderr",
     "output_type": "stream",
     "text": [
      " 23%|██▎       | 88/386 [01:45<05:54,  1.19s/it]"
     ]
    },
    {
     "name": "stdout",
     "output_type": "stream",
     "text": [
      "\"\"\n",
      "Output: \n",
      "Sentence: 'Do you give gifts when purchasing from Hanyumang?'\n",
      "Knowledge: '한유망->Hanyumang'\n",
      "\"\"\n"
     ]
    },
    {
     "name": "stderr",
     "output_type": "stream",
     "text": [
      " 23%|██▎       | 89/386 [01:46<05:55,  1.20s/it]"
     ]
    },
    {
     "name": "stdout",
     "output_type": "stream",
     "text": [
      "\"\"\n",
      "                            Sentence: 'Does payback come in every time you use a card?',\n",
      "                            Knowledge: '페이백->payback'\n",
      "                            \"\"\n"
     ]
    },
    {
     "name": "stderr",
     "output_type": "stream",
     "text": [
      " 23%|██▎       | 90/386 [01:47<05:47,  1.17s/it]"
     ]
    },
    {
     "name": "stdout",
     "output_type": "stream",
     "text": [
      "\"\"\n",
      "                            Sentence: 'Is the card a T-money card?',\n",
      "                            Knowledge: '티머니->T-money'\n",
      "                            \"\"\n"
     ]
    },
    {
     "name": "stderr",
     "output_type": "stream",
     "text": [
      " 24%|██▎       | 91/386 [01:48<05:42,  1.16s/it]"
     ]
    },
    {
     "name": "stdout",
     "output_type": "stream",
     "text": [
      "\"\"\n",
      "                            Sentence: 'Can I find a card in Myeongdong?',\n",
      "                            Knowledge: '명동->Myeongdong'\n",
      "                            \"\"\n"
     ]
    },
    {
     "name": "stderr",
     "output_type": "stream",
     "text": [
      " 24%|██▍       | 92/386 [01:50<06:15,  1.28s/it]"
     ]
    },
    {
     "name": "stdout",
     "output_type": "stream",
     "text": [
      "\"\"\n",
      "                            Sentence: 'Can I find a card at Dongdaemun History and Culture Park Station?',\n",
      "                            Knowledge: '동대문역사문화공원->Dongdaemun History and Culture Park'\n",
      "                            \"\"\n"
     ]
    },
    {
     "name": "stderr",
     "output_type": "stream",
     "text": [
      " 24%|██▍       | 93/386 [01:51<06:00,  1.23s/it]"
     ]
    },
    {
     "name": "stdout",
     "output_type": "stream",
     "text": [
      "Output:\n",
      "Sentence: 'Can I recharge my card with a Korean bank account?',\n",
      "Knowledge: '한국->Korean'\n"
     ]
    },
    {
     "name": "stderr",
     "output_type": "stream",
     "text": [
      " 24%|██▍       | 94/386 [01:53<06:47,  1.40s/it]"
     ]
    },
    {
     "name": "stdout",
     "output_type": "stream",
     "text": [
      "\"\"\n",
      "Sentence: 'Can you charge more than 100,000 won on the card (50,000+50,000)?',\n",
      "Knowledge: '100만원->100,000 won', '50만->50,000' \n",
      "\"\"\n"
     ]
    },
    {
     "name": "stderr",
     "output_type": "stream",
     "text": [
      " 25%|██▍       | 95/386 [01:54<07:11,  1.48s/it]"
     ]
    },
    {
     "name": "stdout",
     "output_type": "stream",
     "text": [
      "\"\"\n",
      "Output: \n",
      "Sentence: 'Can I purchase idol concert tickets, CDs, and cheering goods with a card?',\n",
      "Knowledge: '콘서트티켓->concert tickets', 'CD->CD', '응원용품->cheering goods'\n",
      "\"\"\n"
     ]
    },
    {
     "name": "stderr",
     "output_type": "stream",
     "text": [
      " 25%|██▍       | 96/386 [01:55<06:47,  1.40s/it]"
     ]
    },
    {
     "name": "stdout",
     "output_type": "stream",
     "text": [
      "\"\"\n",
      "                            Sentence: 'Can I get the remaining unused amount on the card back with Alipay?',\n",
      "                            Knowledge: '알리페이->Alipay'\n",
      "                            \"\"\n"
     ]
    },
    {
     "name": "stderr",
     "output_type": "stream",
     "text": [
      " 25%|██▌       | 97/386 [01:56<06:17,  1.31s/it]"
     ]
    },
    {
     "name": "stdout",
     "output_type": "stream",
     "text": [
      "Output: \n",
      "\n",
      "Sentence: 'How should I choose the reservation date when purchasing a card on ctrip?',\n",
      "Knowledge: 'ctrip->ctrip' \n"
     ]
    },
    {
     "name": "stderr",
     "output_type": "stream",
     "text": [
      " 25%|██▌       | 98/386 [01:57<05:49,  1.22s/it]"
     ]
    },
    {
     "name": "stdout",
     "output_type": "stream",
     "text": [
      "\"\n",
      "Output: \n",
      "Sentence: 'Can cards be used like a Bank of Korea account?',\n",
      "Knowledge: '한국->Korea'\n",
      "\"\n"
     ]
    },
    {
     "name": "stderr",
     "output_type": "stream",
     "text": [
      " 26%|██▌       | 99/386 [01:59<06:01,  1.26s/it]"
     ]
    },
    {
     "name": "stdout",
     "output_type": "stream",
     "text": [
      "\"\"\n",
      "Output: \n",
      "Sentence: 'Can I use a card for online purchases at Coupang?',\n",
      "Knowledge: '쿠팡->Coupang' \n",
      "\"\"\n"
     ]
    },
    {
     "name": "stderr",
     "output_type": "stream",
     "text": [
      " 26%|██▌       | 100/386 [02:00<06:11,  1.30s/it]"
     ]
    },
    {
     "name": "stdout",
     "output_type": "stream",
     "text": [
      "\"\"\n",
      "                            Sentence: 'Do I have to recharge at the kiosk when recharging cash? Can I use other bank devices?',\n",
      "                            Knowledge: '키오스크->kiosk'\n",
      "                            \"\"\n"
     ]
    },
    {
     "name": "stderr",
     "output_type": "stream",
     "text": [
      " 26%|██▌       | 101/386 [02:01<06:00,  1.27s/it]"
     ]
    },
    {
     "name": "stdout",
     "output_type": "stream",
     "text": [
      "\n",
      "                            Sentence: 'Is it possible to use a card at the airport duty-free shop?',\n",
      "                            Knowledge: '공항면세점->airport duty-free shop'\n"
     ]
    },
    {
     "name": "stderr",
     "output_type": "stream",
     "text": [
      " 26%|██▋       | 102/386 [02:03<06:18,  1.33s/it]"
     ]
    },
    {
     "name": "stdout",
     "output_type": "stream",
     "text": [
      "Output: \n",
      "Sentence: 'Can I get the card before my departure on November 19th that is 3 days later?',\n",
      "Knowledge: '3일후->3 days later', '11월19일->November 19th'\n"
     ]
    },
    {
     "name": "stderr",
     "output_type": "stream",
     "text": [
      " 27%|██▋       | 103/386 [02:04<06:33,  1.39s/it]"
     ]
    },
    {
     "name": "stdout",
     "output_type": "stream",
     "text": [
      "\"\"\n",
      "Output:\n",
      "Sentence: 'Can I find a card in Gimhae, Gyeongsangnam-do?',\n",
      "Knowledge: '경상남도 김해시->Gimhae, Gyeongsangnam-do'  \n",
      "\"\"\n"
     ]
    },
    {
     "name": "stderr",
     "output_type": "stream",
     "text": [
      " 27%|██▋       | 104/386 [02:06<06:26,  1.37s/it]"
     ]
    },
    {
     "name": "stdout",
     "output_type": "stream",
     "text": [
      "\"\n",
      "                            Sentence: 'Is there a fee for charging at a convenience store?',\n",
      "                            Knowledge: '편의점->convenience store'\n",
      "                            \"\n"
     ]
    },
    {
     "name": "stderr",
     "output_type": "stream",
     "text": [
      " 27%|██▋       | 105/386 [02:07<05:59,  1.28s/it]"
     ]
    },
    {
     "name": "stdout",
     "output_type": "stream",
     "text": [
      "\"\"\n",
      "Sentence: 'I purchased it on ctrip, can I register it on the app now?',\n",
      "Knowledge: 'ctrip->ctrip'\n",
      "\"\"\n"
     ]
    },
    {
     "name": "stderr",
     "output_type": "stream",
     "text": [
      " 27%|██▋       | 106/386 [02:08<05:38,  1.21s/it]"
     ]
    },
    {
     "name": "stdout",
     "output_type": "stream",
     "text": [
      "\"\"\n",
      "Output: \n",
      "Sentence: 'Can cards be delivered by courier in Korea?',\n",
      "Knowledge: '한국->Korea' \n",
      "\"\"\n"
     ]
    },
    {
     "name": "stderr",
     "output_type": "stream",
     "text": [
      " 28%|██▊       | 107/386 [02:09<05:42,  1.23s/it]"
     ]
    },
    {
     "name": "stdout",
     "output_type": "stream",
     "text": [
      "\"\"\n",
      "Output: \n",
      "Sentence: 'Where is the kiosk in Gimpo Airport?',\n",
      "Knowledge: '김포공항->Gimpo Airport', '키오스크->kiosk'\n",
      "\"\"\n"
     ]
    },
    {
     "name": "stderr",
     "output_type": "stream",
     "text": [
      " 28%|██▊       | 108/386 [02:10<05:33,  1.20s/it]"
     ]
    },
    {
     "name": "stdout",
     "output_type": "stream",
     "text": [
      "\"\"\n",
      "Output: \n",
      "Sentence: 'Can I find my card at Incheon Airport?',\n",
      "Knowledge: '인천공항->Incheon Airport'\n",
      "\"\"\n"
     ]
    },
    {
     "name": "stderr",
     "output_type": "stream",
     "text": [
      " 28%|██▊       | 109/386 [02:11<05:27,  1.18s/it]"
     ]
    },
    {
     "name": "stdout",
     "output_type": "stream",
     "text": [
      "\"\"\n",
      "                            Sentence: 'Is there a difference between VISA card and not?'\n",
      "                            Knowledge: 'VISA->VISA' \n",
      "                            \"\"\n"
     ]
    },
    {
     "name": "stderr",
     "output_type": "stream",
     "text": [
      " 28%|██▊       | 110/386 [02:13<05:34,  1.21s/it]"
     ]
    },
    {
     "name": "stdout",
     "output_type": "stream",
     "text": [
      "\"\"\n",
      "                            Sentence: 'Can I find my card in the city of Icheon, Gyeonggi-do?',\n",
      "                            Knowledge: '경기도 이천->Icheon'\n",
      "                            \"\"\n"
     ]
    },
    {
     "name": "stderr",
     "output_type": "stream",
     "text": [
      " 29%|██▉       | 111/386 [02:14<05:32,  1.21s/it]"
     ]
    },
    {
     "name": "stdout",
     "output_type": "stream",
     "text": [
      "\"\"\n",
      "Sentence: 'Do you have to return the money if you can't find the card in Jeju Island?',\n",
      "Knowledge: '제주도->Jeju Island'\"\n"
     ]
    },
    {
     "name": "stderr",
     "output_type": "stream",
     "text": [
      " 29%|██▉       | 112/386 [02:15<05:46,  1.26s/it]"
     ]
    },
    {
     "name": "stdout",
     "output_type": "stream",
     "text": [
      "\"\"\n",
      "Sentence: 'Can I purchase a card directly from a kiosk in Korea instead of buying it from Ctrip?',\n",
      "Knowledge: 'Ctrip->Ctrip', '한국->Korea', '키오스크->kiosk'\n",
      "\"\"\n"
     ]
    },
    {
     "name": "stderr",
     "output_type": "stream",
     "text": [
      " 29%|██▉       | 113/386 [02:16<05:25,  1.19s/it]"
     ]
    },
    {
     "name": "stdout",
     "output_type": "stream",
     "text": [
      "\"\n",
      "Sentence: 'Where is the company located in Myeongdong?',\n",
      "Knowledge: '명동->Myeongdong'\n",
      "\"\n"
     ]
    },
    {
     "name": "stderr",
     "output_type": "stream",
     "text": [
      " 30%|██▉       | 114/386 [02:18<05:28,  1.21s/it]"
     ]
    },
    {
     "name": "stdout",
     "output_type": "stream",
     "text": [
      "\"\"\n",
      "Output:\n",
      "Sentence: 'Do you go to work at the company on weekends?',\n",
      "Knowledge: '주말->weekends' \n",
      "\"\"\n"
     ]
    },
    {
     "name": "stderr",
     "output_type": "stream",
     "text": [
      " 30%|██▉       | 115/386 [02:19<05:09,  1.14s/it]"
     ]
    },
    {
     "name": "stdout",
     "output_type": "stream",
     "text": [
      "\"\"\n",
      "Sentence: 'Can Alipay card be recharged?',\n",
      "Knowledge: '알리페이->Alipay' \n",
      "\"\"\n"
     ]
    },
    {
     "name": "stderr",
     "output_type": "stream",
     "text": [
      " 30%|███       | 116/386 [02:20<04:57,  1.10s/it]"
     ]
    },
    {
     "name": "stdout",
     "output_type": "stream",
     "text": [
      "\"\n",
      "Sentence: 'Do you find the card when you arrive in Korea?'\n",
      "Knowledge: '한국->Korea'\n",
      "\"\n"
     ]
    },
    {
     "name": "stderr",
     "output_type": "stream",
     "text": [
      " 30%|███       | 117/386 [02:21<04:53,  1.09s/it]"
     ]
    },
    {
     "name": "stdout",
     "output_type": "stream",
     "text": [
      "Output: \n",
      "Sentence: 'Are all stores in Korea available for use?'\n",
      "Knowledge: '한국->Korea'\n"
     ]
    },
    {
     "name": "stderr",
     "output_type": "stream",
     "text": [
      " 31%|███       | 118/386 [02:22<05:00,  1.12s/it]"
     ]
    },
    {
     "name": "stdout",
     "output_type": "stream",
     "text": [
      "\"\"\n",
      "Output: \n",
      "Sentence: 'How do you recharge your card with WeChat?'\n",
      "Knowledge: '위챗->WeChat' \n",
      "\"\"\n"
     ]
    },
    {
     "name": "stderr",
     "output_type": "stream",
     "text": [
      " 31%|███       | 119/386 [02:23<05:06,  1.15s/it]"
     ]
    },
    {
     "name": "stdout",
     "output_type": "stream",
     "text": [
      "\"\"\n",
      "                            Sentence: 'Do I have to charge at least 1 million won on the card?',\n",
      "                            Knowledge: '100만원->1 million won'\n",
      "                            \"\"\n"
     ]
    },
    {
     "name": "stderr",
     "output_type": "stream",
     "text": [
      " 31%|███       | 120/386 [02:24<04:56,  1.12s/it]"
     ]
    },
    {
     "name": "stdout",
     "output_type": "stream",
     "text": [
      "\"\"\n",
      "Output: \n",
      "Sentence: 'Are there kiosk machines at the airport?',\n",
      "Knowledge: '공항->airport' \n",
      "\"\"\n"
     ]
    },
    {
     "name": "stderr",
     "output_type": "stream",
     "text": [
      " 31%|███▏      | 121/386 [02:25<05:01,  1.14s/it]"
     ]
    },
    {
     "name": "stdout",
     "output_type": "stream",
     "text": [
      "\"\"\n",
      "                            Sentence: 'Is there a fee for cash recharge at the kiosk device?',\n",
      "                            Knowledge: '키오스크->kiosk'\n",
      "                            \"\"\n"
     ]
    },
    {
     "name": "stderr",
     "output_type": "stream",
     "text": [
      " 32%|███▏      | 122/386 [02:26<05:04,  1.15s/it]"
     ]
    },
    {
     "name": "stdout",
     "output_type": "stream",
     "text": [
      "\"\"\n",
      "Sentence: 'Are there kiosk machines in Incheon?',\n",
      "Knowledge: '인천->Incheon', '키오스크->kiosk'\n",
      "\"\"\n"
     ]
    },
    {
     "name": "stderr",
     "output_type": "stream",
     "text": [
      " 32%|███▏      | 123/386 [02:28<05:10,  1.18s/it]"
     ]
    },
    {
     "name": "stdout",
     "output_type": "stream",
     "text": [
      "\n",
      "Output: \n",
      "Sentence: 'I am a long-term resident in Korea, but I don't have an alien registration card. Can I use it without an alien registration card?',\n",
      "Knowledge: '한국->Korea'  \n"
     ]
    },
    {
     "name": "stderr",
     "output_type": "stream",
     "text": [
      " 32%|███▏      | 124/386 [02:29<05:07,  1.17s/it]"
     ]
    },
    {
     "name": "stdout",
     "output_type": "stream",
     "text": [
      "\"\"\n",
      "Sentence: 'Can I only recharge my transportation card at convenience stores? Can I recharge online?',\n",
      "Knowledge: '편의점->convenience stores'\n",
      "\"\"\n"
     ]
    },
    {
     "name": "stderr",
     "output_type": "stream",
     "text": [
      " 32%|███▏      | 125/386 [02:30<05:05,  1.17s/it]"
     ]
    },
    {
     "name": "stdout",
     "output_type": "stream",
     "text": [
      "\"\"\n",
      "Output: \n",
      "Sentence: 'When I arrive at the card company, can I get one for free?',\n",
      "Knowledge: '공짜->free'\n",
      "\"\"\n"
     ]
    },
    {
     "name": "stderr",
     "output_type": "stream",
     "text": [
      " 33%|███▎      | 126/386 [02:31<05:09,  1.19s/it]"
     ]
    },
    {
     "name": "stdout",
     "output_type": "stream",
     "text": [
      "\"\n",
      "                            Sentence: 'Does the mobile phone need to have NFC function to use the card?',\n",
      "                            Knowledge: 'NFC->NFC'\"\n",
      "                           \n"
     ]
    },
    {
     "name": "stderr",
     "output_type": "stream",
     "text": [
      " 33%|███▎      | 127/386 [02:32<04:49,  1.12s/it]"
     ]
    },
    {
     "name": "stdout",
     "output_type": "stream",
     "text": [
      "\"\"\n",
      "                            Sentence: 'Can I find a card in Busan?',\n",
      "                            Knowledge: '부산->Busan'\n",
      "                            \"\"\n"
     ]
    },
    {
     "name": "stderr",
     "output_type": "stream",
     "text": [
      " 33%|███▎      | 128/386 [02:33<04:46,  1.11s/it]"
     ]
    },
    {
     "name": "stdout",
     "output_type": "stream",
     "text": [
      "\"\"\n",
      "Output: \n",
      "Sentence: 'Can I use a card at a convenience store?',\n",
      "Knowledge: '편의점->convenience store'\"\"\n"
     ]
    },
    {
     "name": "stderr",
     "output_type": "stream",
     "text": [
      " 33%|███▎      | 129/386 [02:35<05:24,  1.26s/it]"
     ]
    },
    {
     "name": "stdout",
     "output_type": "stream",
     "text": [
      "\"\"\n",
      "Sentence: 'Can you only find cards in Korea? Is delivery possible in China?',\n",
      "Knowledge: '한국->Korea', '중국->China'\n",
      "\"\"\n"
     ]
    },
    {
     "name": "stderr",
     "output_type": "stream",
     "text": [
      " 34%|███▎      | 130/386 [02:36<05:10,  1.21s/it]"
     ]
    },
    {
     "name": "stdout",
     "output_type": "stream",
     "text": [
      "\"\"\n",
      "Output:\n",
      "Sentence: 'Can multiple people use the same card?',\n",
      "Knowledge: '한장->same card', '여러사람->multiple people'\n",
      "\"\"\n"
     ]
    },
    {
     "name": "stderr",
     "output_type": "stream",
     "text": [
      " 34%|███▍      | 131/386 [02:37<05:16,  1.24s/it]"
     ]
    },
    {
     "name": "stdout",
     "output_type": "stream",
     "text": [
      "\"\"\n",
      "Sentence: 'I want to purchase at Hanyumang, but the card price is different, what is the difference?',\n",
      "Knowledge: '한유망->Hanyumang'\n",
      "\"\"\n"
     ]
    },
    {
     "name": "stderr",
     "output_type": "stream",
     "text": [
      " 34%|███▍      | 132/386 [02:39<05:12,  1.23s/it]"
     ]
    },
    {
     "name": "stdout",
     "output_type": "stream",
     "text": [
      "\"\"\n",
      "Sentence: 'Can I use a card at Hongdae restaurants?',\n",
      "Knowledge: '홍대->Hongdae', '음식점->restaurants'\n",
      "\"\"\n"
     ]
    },
    {
     "name": "stderr",
     "output_type": "stream",
     "text": [
      " 34%|███▍      | 133/386 [02:40<05:21,  1.27s/it]"
     ]
    },
    {
     "name": "stdout",
     "output_type": "stream",
     "text": [
      "Output: \n",
      "Sentence: 'Can I get a free card?',\n",
      "Knowledge: '1장->1 card', '공짜->free'\n"
     ]
    },
    {
     "name": "stderr",
     "output_type": "stream",
     "text": [
      " 35%|███▍      | 134/386 [02:41<05:17,  1.26s/it]"
     ]
    },
    {
     "name": "stdout",
     "output_type": "stream",
     "text": [
      "\"\"\n",
      "                            Sentence: 'After using the card, how can I get cashback if it's not automatically given?',\n",
      "                            Knowledge: '페이백->cashback'\n",
      "                            \"\"\n"
     ]
    },
    {
     "name": "stderr",
     "output_type": "stream",
     "text": [
      " 35%|███▍      | 135/386 [02:43<05:42,  1.37s/it]"
     ]
    },
    {
     "name": "stdout",
     "output_type": "stream",
     "text": [
      "\"\"\n",
      "Output: \n",
      "Sentence: 'How do I receive an authentication number when trying to register for the Namane app? Authentication is not possible with a Chinese phone, but it is possible to receive the authentication number via email.',\n",
      "Knowledge: '나마네->Namane', '중국->Chinese'\n",
      "\"\"\n"
     ]
    },
    {
     "name": "stderr",
     "output_type": "stream",
     "text": [
      " 35%|███▌      | 136/386 [02:44<05:24,  1.30s/it]"
     ]
    },
    {
     "name": "stdout",
     "output_type": "stream",
     "text": [
      "\"\"\n",
      "Sentence: 'I'm trying to receive the verification code, but I don't have a Chinese email. How should I choose?',\n",
      "Knowledge: '중국->Chinese'\"\n"
     ]
    },
    {
     "name": "stderr",
     "output_type": "stream",
     "text": [
      " 35%|███▌      | 137/386 [02:45<05:14,  1.26s/it]"
     ]
    },
    {
     "name": "stdout",
     "output_type": "stream",
     "text": [
      "\"\"\n",
      "Output: \n",
      "Sentence: 'If you are already in Korea, how do you buy a card?',\n",
      "Knowledge: '한국->Korea' \n",
      "\"\"\n"
     ]
    },
    {
     "name": "stderr",
     "output_type": "stream",
     "text": [
      " 36%|███▌      | 138/386 [02:46<05:06,  1.23s/it]"
     ]
    },
    {
     "name": "stdout",
     "output_type": "stream",
     "text": [
      "\"\"\n",
      "Sentence: 'Can I receive a card in full red single color when purchasing a card?',\n",
      "Knowledge: '빨간색->red'\n",
      "\"\"\n"
     ]
    },
    {
     "name": "stderr",
     "output_type": "stream",
     "text": [
      " 36%|███▌      | 139/386 [02:47<04:55,  1.20s/it]"
     ]
    },
    {
     "name": "stdout",
     "output_type": "stream",
     "text": [
      "\"\"\n",
      "                            Sentence: 'Can I buy cards in China?',\n",
      "                            Knowledge: '중국->China'\n",
      "                            \"\"\n"
     ]
    },
    {
     "name": "stderr",
     "output_type": "stream",
     "text": [
      " 36%|███▋      | 140/386 [02:49<04:56,  1.20s/it]"
     ]
    },
    {
     "name": "stdout",
     "output_type": "stream",
     "text": [
      "\"\"\n",
      "Sentence: 'Can I get a tax refund when purchasing over 30,000 won with a card before departure?',\n",
      "Knowledge: '3만원->30,000 won'\n",
      "\"\"\n"
     ]
    },
    {
     "name": "stderr",
     "output_type": "stream",
     "text": [
      " 37%|███▋      | 141/386 [02:50<05:10,  1.27s/it]"
     ]
    },
    {
     "name": "stdout",
     "output_type": "stream",
     "text": [
      "\"\"\n",
      "Output: \n",
      "Sentence: 'Can I use one card for a 4-person trip to Korea?',\n",
      "Knowledge: '4인->4-person', '한국->Korea', '한장->one' \n",
      "\"\"\n"
     ]
    },
    {
     "name": "stderr",
     "output_type": "stream",
     "text": [
      " 37%|███▋      | 142/386 [02:51<04:59,  1.23s/it]"
     ]
    },
    {
     "name": "stdout",
     "output_type": "stream",
     "text": [
      "\"\"\n",
      "                            Sentence: 'Can I get the remaining unused amount on the card back through WeChat?'\n",
      "                            Knowledge: '위챗->WeChat'\n",
      "                            \"\"\n"
     ]
    },
    {
     "name": "stderr",
     "output_type": "stream",
     "text": [
      " 37%|███▋      | 143/386 [02:52<04:39,  1.15s/it]"
     ]
    },
    {
     "name": "stdout",
     "output_type": "stream",
     "text": [
      "Output: \n",
      "Sentence: 'How can I receive payback?', \n",
      "Knowledge: '페이백->payback'\n"
     ]
    },
    {
     "name": "stderr",
     "output_type": "stream",
     "text": [
      " 37%|███▋      | 144/386 [02:54<05:08,  1.27s/it]"
     ]
    },
    {
     "name": "stdout",
     "output_type": "stream",
     "text": [
      "\"\"\n",
      "                            Sentence: 'I can't find the kiosk device at Gimpo Airport, is there a device at Gimpo Airport Station?'\n",
      "                            Knowledge: '김포공항->Gimpo Airport', '키오스크->kiosk', '지하철->subway'\n",
      "                            \"\"\n"
     ]
    },
    {
     "name": "stderr",
     "output_type": "stream",
     "text": [
      " 38%|███▊      | 145/386 [02:55<04:55,  1.23s/it]"
     ]
    },
    {
     "name": "stdout",
     "output_type": "stream",
     "text": [
      "\n",
      "Output: \n",
      "Sentence: 'Can I get the remaining unused amount on the card back in Chinese money?', \n",
      "Knowledge: '중국->Chinese'\n"
     ]
    },
    {
     "name": "stderr",
     "output_type": "stream",
     "text": [
      " 38%|███▊      | 146/386 [02:56<04:48,  1.20s/it]"
     ]
    },
    {
     "name": "stdout",
     "output_type": "stream",
     "text": [
      "\"\"\n",
      "Sentence: 'Are you recruiting the second session of exchange student card experience group?',\n",
      "Knowledge: '유학생->exchange student'\n",
      "\"\"\n"
     ]
    },
    {
     "name": "stderr",
     "output_type": "stream",
     "text": [
      " 38%|███▊      | 147/386 [02:57<04:57,  1.25s/it]"
     ]
    },
    {
     "name": "stdout",
     "output_type": "stream",
     "text": [
      "\n",
      "Output: \n",
      "Sentence: 'The registration at the KTC card site is not working, can I still use the cashback?'\n",
      "Knowledge: 'KTC->KTC', '페이백->cashback'\n"
     ]
    },
    {
     "name": "stderr",
     "output_type": "stream",
     "text": [
      " 38%|███▊      | 148/386 [02:59<05:13,  1.32s/it]"
     ]
    },
    {
     "name": "stdout",
     "output_type": "stream",
     "text": [
      "\n",
      "Output: \n",
      "Sentence: 'Is the price of the card 11 yuan? Is it 11 yuan per day?',\n",
      "Knowledge: '11위안->11 yuan', '하루->per day'\n"
     ]
    },
    {
     "name": "stderr",
     "output_type": "stream",
     "text": [
      " 39%|███▊      | 149/386 [03:00<05:08,  1.30s/it]"
     ]
    },
    {
     "name": "stdout",
     "output_type": "stream",
     "text": [
      "Output: \n",
      "Sentence: 'Do you have the website address for Han Yumang? Please send me the link.',\n",
      "Knowledge: '한유망->Han Yumang'\n"
     ]
    },
    {
     "name": "stderr",
     "output_type": "stream",
     "text": [
      " 39%|███▉      | 150/386 [03:02<05:35,  1.42s/it]"
     ]
    },
    {
     "name": "stdout",
     "output_type": "stream",
     "text": [
      "\"\n",
      "                            Sentence: 'I purchased from ctrip but didn't receive the QR code, so I purchased separately for 7,000 won on the device, can I get a refund?',\n",
      "                            Knowledge: 'ctrip->ctrip', '7천원->7,000 won'\n",
      "                            \"\n"
     ]
    },
    {
     "name": "stderr",
     "output_type": "stream",
     "text": [
      " 39%|███▉      | 151/386 [03:03<05:18,  1.36s/it]"
     ]
    },
    {
     "name": "stdout",
     "output_type": "stream",
     "text": [
      "\"\"\n",
      "                            Sentence: 'Can I recharge my transportation card at a convenience store?',\n",
      "                            Knowledge: '편의점->convenience store'\n",
      "                            \"\"\n"
     ]
    },
    {
     "name": "stderr",
     "output_type": "stream",
     "text": [
      " 39%|███▉      | 152/386 [03:05<06:12,  1.59s/it]"
     ]
    },
    {
     "name": "stdout",
     "output_type": "stream",
     "text": [
      "\"\"\n",
      "                            Sentence: 'I pressed the DIY card on the kiosk machine for payment but the card did not come out, can I get a refund? I was instructed to contact the customer center within the Namane App by the staff'\n",
      "                            Knowledge: '키오스크->kiosk', '나마네->Namane'\n",
      "                            \"\"\n"
     ]
    },
    {
     "name": "stderr",
     "output_type": "stream",
     "text": [
      " 40%|███▉      | 153/386 [03:06<05:39,  1.46s/it]"
     ]
    },
    {
     "name": "stdout",
     "output_type": "stream",
     "text": [
      "\"\n",
      "Sentence: 'I couldn't find the kiosk at the Incheon Airport and requested a refund',\n",
      "Knowledge: '인천공항->Incheon Airport'\n",
      "\"\n"
     ]
    },
    {
     "name": "stderr",
     "output_type": "stream",
     "text": [
      " 40%|███▉      | 154/386 [03:08<05:43,  1.48s/it]"
     ]
    },
    {
     "name": "stdout",
     "output_type": "stream",
     "text": [
      "\"\"\n",
      "Sentence: 'I bought from ctrip and trying to find the card on the device, do I have to pay separate 7,000 won to find the card?',\n",
      "Knowledge: 'ctrip->ctrip', '7천원->7,000 won'\n",
      "\"\"\n"
     ]
    },
    {
     "name": "stderr",
     "output_type": "stream",
     "text": [
      " 40%|████      | 155/386 [03:09<05:44,  1.49s/it]"
     ]
    },
    {
     "name": "stdout",
     "output_type": "stream",
     "text": [
      "\"\"\n",
      "Sentence: 'Do you charge in Korean money when recharging with cash? Or do you charge in Chinese money?',\n",
      "Knowledge: '한국->Korean', '중국->Chinese'\n",
      "\"\"\n"
     ]
    },
    {
     "name": "stderr",
     "output_type": "stream",
     "text": [
      " 40%|████      | 156/386 [03:10<05:20,  1.39s/it]"
     ]
    },
    {
     "name": "stdout",
     "output_type": "stream",
     "text": [
      "```\n",
      "Sentence: 'Do I need to provide real name when registering for Namane app?',\n",
      "Knowledge: '나마네->Namane'\n",
      "```\n"
     ]
    },
    {
     "name": "stderr",
     "output_type": "stream",
     "text": [
      " 41%|████      | 157/386 [03:11<04:54,  1.29s/it]"
     ]
    },
    {
     "name": "stdout",
     "output_type": "stream",
     "text": [
      "\"\"\n",
      "                            Sentence: 'Do you have a link to the KTC card site?',\n",
      "                            Knowledge: 'KTC->KTC'\n",
      "                            \"\"\n"
     ]
    },
    {
     "name": "stderr",
     "output_type": "stream",
     "text": [
      " 41%|████      | 158/386 [03:13<04:42,  1.24s/it]"
     ]
    },
    {
     "name": "stdout",
     "output_type": "stream",
     "text": [
      "\"\"\n",
      "Output: \n",
      "Sentence: 'When using a card, how much cashback can I receive?',\n",
      "Knowledge: '페이백->cashback'\"\"\n"
     ]
    },
    {
     "name": "stderr",
     "output_type": "stream",
     "text": [
      " 41%|████      | 159/386 [03:14<05:15,  1.39s/it]"
     ]
    },
    {
     "name": "stdout",
     "output_type": "stream",
     "text": [
      "\"\"\n",
      "Sentence: 'I accidentally withdrew 2 cards with a QR code and 7000 won, can I get a refund for one of them?',\n",
      "Knowledge: '7000원->7000 won', '2장->2 cards', '1장->one of them'\n",
      "\"\"\n"
     ]
    },
    {
     "name": "stderr",
     "output_type": "stream",
     "text": [
      " 41%|████▏     | 160/386 [03:16<05:51,  1.56s/it]"
     ]
    },
    {
     "name": "stdout",
     "output_type": "stream",
     "text": [
      "\"\"\n",
      "                            Sentence: 'I can't withdraw card at the CU convenience store device in Incheon Airport T1, can I withdraw it elsewhere? Additional verification is needed to check if it is a device problem',\n",
      "                            Knowledge: '인천공항 T1->Incheon Airport T1', 'CU->CU', '편의점->convenience store'\n",
      "                            \"\"\n"
     ]
    },
    {
     "name": "stderr",
     "output_type": "stream",
     "text": [
      " 42%|████▏     | 161/386 [03:18<05:37,  1.50s/it]"
     ]
    },
    {
     "name": "stdout",
     "output_type": "stream",
     "text": [
      "\n",
      "Output: \n",
      "Sentence: 'Registration is not available on the KTC card website, can I still use payback? Unable to register on mobile phone'\n",
      "Knowledge: 'KTC->KTC', '페이백->payback'\n"
     ]
    },
    {
     "name": "stderr",
     "output_type": "stream",
     "text": [
      " 42%|████▏     | 162/386 [03:19<05:54,  1.58s/it]"
     ]
    },
    {
     "name": "stdout",
     "output_type": "stream",
     "text": [
      "\"\"\n",
      "                            Sentence: 'I can't get a card from the CU kiosk machine near Incheon Airport T1 F exit, is there any other way?',\n",
      "                            Knowledge: '인천공항 T1->Incheon Airport T1', 'CU->CU', '편의점->convenience store', '키오스크->kiosk'\n",
      "                            \"\"\n"
     ]
    },
    {
     "name": "stderr",
     "output_type": "stream",
     "text": [
      " 42%|████▏     | 163/386 [03:21<05:21,  1.44s/it]"
     ]
    },
    {
     "name": "stdout",
     "output_type": "stream",
     "text": [
      "\"\"\n",
      "Sentence: 'The subway usage instructions in the app say \"prepaid\", what does that mean?',\n",
      "Knowledge: '지하철->subway'\"\"\n"
     ]
    },
    {
     "name": "stderr",
     "output_type": "stream",
     "text": [
      " 42%|████▏     | 164/386 [03:23<06:01,  1.63s/it]"
     ]
    },
    {
     "name": "stdout",
     "output_type": "stream",
     "text": [
      "\"\"\n",
      "Sentence: 'I took the subway, and it cost 1400 won for the first time, but it cost double, 2800 won, for the second use. Is there a problem with the card? Additional verification is required.'\n",
      "Knowledge: '한번->first time', '1400원->1400 won', '두번->second use', '2배->double', '2800원->2800 won'\n",
      "\"\"\n"
     ]
    },
    {
     "name": "stderr",
     "output_type": "stream",
     "text": [
      " 43%|████▎     | 165/386 [03:24<05:36,  1.52s/it]"
     ]
    },
    {
     "name": "stdout",
     "output_type": "stream",
     "text": [
      "\"\"\n",
      "Output: \n",
      "Sentence: 'Can I know the location of other kiosks outside the airport?',\n",
      "Knowledge: '공항->airport', '키오스크->kiosks'\n",
      "\"\"\n"
     ]
    },
    {
     "name": "stderr",
     "output_type": "stream",
     "text": [
      " 43%|████▎     | 166/386 [03:25<05:11,  1.41s/it]"
     ]
    },
    {
     "name": "stdout",
     "output_type": "stream",
     "text": [
      "\"\"\n",
      "                            Sentence: 'Can I use subway and bus?',\n",
      "                            Knowledge: '지하철->subway', '버스->bus'\n",
      "                            \"\"\n"
     ]
    },
    {
     "name": "stderr",
     "output_type": "stream",
     "text": [
      " 43%|████▎     | 167/386 [03:26<04:55,  1.35s/it]"
     ]
    },
    {
     "name": "stdout",
     "output_type": "stream",
     "text": [
      "\"\n",
      "                            Sentence: 'Can I purchase concert tickets online?',\n",
      "                            Knowledge: '콘서트 티켓->concert tickets'\n",
      "                            \"\n"
     ]
    },
    {
     "name": "stderr",
     "output_type": "stream",
     "text": [
      " 44%|████▎     | 168/386 [03:28<04:57,  1.36s/it]"
     ]
    },
    {
     "name": "stdout",
     "output_type": "stream",
     "text": [
      "\"\n",
      "Sentence: 'When checking on ctrip, the price is 11 yuan, is the card being sold by the company correct?',\n",
      "Knowledge: 'ctrip->ctrip', '11위안->11 yuan'\n",
      "\"\n"
     ]
    },
    {
     "name": "stderr",
     "output_type": "stream",
     "text": [
      " 44%|████▍     | 169/386 [03:29<04:42,  1.30s/it]"
     ]
    },
    {
     "name": "stdout",
     "output_type": "stream",
     "text": [
      "\"\"\n",
      "예시:\n",
      "Sentence: 'Is T-money card different?'\n",
      "Knowledge: '티머니->T-money'\n",
      "\"\"\n"
     ]
    },
    {
     "name": "stderr",
     "output_type": "stream",
     "text": [
      " 44%|████▍     | 170/386 [03:30<04:31,  1.26s/it]"
     ]
    },
    {
     "name": "stdout",
     "output_type": "stream",
     "text": [
      "\"\"\n",
      "Output: \n",
      "Sentence: \"Can foreign currency (Chinese yuan, US dollar, etc.) be recharged?\"\n",
      "Knowledge: '중국->Chinese', '미국->US'\"\n"
     ]
    },
    {
     "name": "stderr",
     "output_type": "stream",
     "text": [
      " 44%|████▍     | 171/386 [03:31<04:14,  1.19s/it]"
     ]
    },
    {
     "name": "stdout",
     "output_type": "stream",
     "text": [
      "\n",
      "Output: \n",
      "Sentence: 'Is it possible to use iPhone like a transportation card?',\n",
      "Knowledge: '아이폰->iPhone'\n"
     ]
    },
    {
     "name": "stderr",
     "output_type": "stream",
     "text": [
      " 45%|████▍     | 172/386 [03:32<03:59,  1.12s/it]"
     ]
    },
    {
     "name": "stdout",
     "output_type": "stream",
     "text": [
      "\"\"\n",
      "Sentence: 'Are the KTC cards being sold transportation cards?',\n",
      "Knowledge: 'KTC->KTC'\n",
      "\"\"\n"
     ]
    },
    {
     "name": "stderr",
     "output_type": "stream",
     "text": [
      " 45%|████▍     | 173/386 [03:33<03:52,  1.09s/it]"
     ]
    },
    {
     "name": "stdout",
     "output_type": "stream",
     "text": [
      "\n",
      "Output: \n",
      "Sentence: 'Does KTC card work on all transportation in Seoul?',\n",
      "Knowledge: 'KTC->KTC'\n"
     ]
    },
    {
     "name": "stderr",
     "output_type": "stream",
     "text": [
      " 45%|████▌     | 174/386 [03:34<03:52,  1.10s/it]"
     ]
    },
    {
     "name": "stdout",
     "output_type": "stream",
     "text": [
      "\"\"\n",
      "                            Sentence: 'Do you charge a fee for WeChat top-up?',\n",
      "                            Knowledge: '위챗->WeChat'\n",
      "                            \"\"\n"
     ]
    },
    {
     "name": "stderr",
     "output_type": "stream",
     "text": [
      " 45%|████▌     | 175/386 [03:35<04:13,  1.20s/it]"
     ]
    },
    {
     "name": "stdout",
     "output_type": "stream",
     "text": [
      "\"\"\n",
      "Output: \n",
      "Sentence: 'I charged 30,000 won on my card but I can't use it for shopping or subway, is there a way to use it?',\n",
      "Knowledge: '3만원->30,000 won', '쇼핑->shopping', '지하철->subway'\"\"\n"
     ]
    },
    {
     "name": "stderr",
     "output_type": "stream",
     "text": [
      " 46%|████▌     | 176/386 [03:37<04:11,  1.20s/it]"
     ]
    },
    {
     "name": "stdout",
     "output_type": "stream",
     "text": [
      "\"\"\n",
      "Sentence: 'Can I find my card at the airport CU convenience store?',\n",
      "Knowledge: '공항->airport', 'CU->CU', '편의점->convenience store'\n",
      "\"\"\n"
     ]
    },
    {
     "name": "stderr",
     "output_type": "stream",
     "text": [
      " 46%|████▌     | 177/386 [03:38<04:16,  1.23s/it]"
     ]
    },
    {
     "name": "stdout",
     "output_type": "stream",
     "text": [
      "Output: \n",
      "Sentence: 'I'm trying to find my card at CU convenience store, what is the address?',\n",
      "Knowledge: 'CU->CU', '편의점->convenience store' \n"
     ]
    },
    {
     "name": "stderr",
     "output_type": "stream",
     "text": [
      " 46%|████▌     | 178/386 [03:39<04:24,  1.27s/it]"
     ]
    },
    {
     "name": "stdout",
     "output_type": "stream",
     "text": [
      "\n",
      "                            최종적으로 Output 내용은 다음과 같습니다:\n",
      "                            Sentence: 'Can I purchase KTX train tickets with a card?'\n",
      "                            Knowledge: 'KTX->KTX'\n"
     ]
    },
    {
     "name": "stderr",
     "output_type": "stream",
     "text": [
      " 46%|████▋     | 179/386 [03:40<04:09,  1.20s/it]"
     ]
    },
    {
     "name": "stdout",
     "output_type": "stream",
     "text": [
      "\"\"\n",
      "Output: \n",
      "Sentence: 'Is there a fee for WeChat top-up?',\n",
      "Knowledge: '위챗->WeChat'\n",
      "\"\"\n"
     ]
    },
    {
     "name": "stderr",
     "output_type": "stream",
     "text": [
      " 47%|████▋     | 180/386 [03:41<03:59,  1.16s/it]"
     ]
    },
    {
     "name": "stdout",
     "output_type": "stream",
     "text": [
      "\"\"\n",
      "Output: \n",
      "Sentence: 'Can I recharge with Alipay?',\n",
      "Knowledge: '알리페이->Alipay'\n",
      "\"\"\n"
     ]
    },
    {
     "name": "stderr",
     "output_type": "stream",
     "text": [
      " 47%|████▋     | 181/386 [03:43<04:19,  1.27s/it]"
     ]
    },
    {
     "name": "stdout",
     "output_type": "stream",
     "text": [
      "\"\"\n",
      "Output:\n",
      "Sentence: 'I'm trying to recharge via WeChat, but it shows a 4% fee. Didn't they say the fee would be waived?',\n",
      "Knowledge: '위챗->WeChat', '4%->4%'\"\n",
      "\"\"\n"
     ]
    },
    {
     "name": "stderr",
     "output_type": "stream",
     "text": [
      " 47%|████▋     | 182/386 [03:44<04:01,  1.18s/it]"
     ]
    },
    {
     "name": "stdout",
     "output_type": "stream",
     "text": [
      "Output: \n",
      "Sentence: 'Where is the kiosk located?',\n",
      "Knowledge: '키오스크->kiosk'\n"
     ]
    },
    {
     "name": "stderr",
     "output_type": "stream",
     "text": [
      " 47%|████▋     | 183/386 [03:45<03:56,  1.16s/it]"
     ]
    },
    {
     "name": "stdout",
     "output_type": "stream",
     "text": [
      "\n",
      "Output: \n",
      "Sentence: 'How do you calculate the exchange rate when recharging WeChat?',\n",
      "Knowledge: '위챗->WeChat'\n"
     ]
    },
    {
     "name": "stderr",
     "output_type": "stream",
     "text": [
      " 48%|████▊     | 184/386 [03:46<03:54,  1.16s/it]"
     ]
    },
    {
     "name": "stdout",
     "output_type": "stream",
     "text": [
      "\"\"\n",
      "Output: \n",
      "Sentence: 'Can I know the location of the kiosk?',\n",
      "Knowledge: '키오스크->kiosk'\n",
      "\"\"\n"
     ]
    },
    {
     "name": "stderr",
     "output_type": "stream",
     "text": [
      " 48%|████▊     | 185/386 [03:48<04:12,  1.25s/it]"
     ]
    },
    {
     "name": "stdout",
     "output_type": "stream",
     "text": [
      "\"\"\n",
      "                            Sentence: 'Can two people use only one card when taking the bus?',\n",
      "                            Knowledge: '두사람->two people', '버스->bus', '한장->one card'\n",
      "                            \"\"\n"
     ]
    },
    {
     "name": "stderr",
     "output_type": "stream",
     "text": [
      " 48%|████▊     | 186/386 [03:49<04:18,  1.29s/it]"
     ]
    },
    {
     "name": "stdout",
     "output_type": "stream",
     "text": [
      "\"\"\n",
      "                            Sentence: 'WeChat said that there would be no commission when recharging, but 4% keeps showing on the payment screen.',\n",
      "                            Knowledge: '위챗->WeChat', '4%->4%''\n",
      "                            \"\"\n"
     ]
    },
    {
     "name": "stderr",
     "output_type": "stream",
     "text": [
      " 48%|████▊     | 187/386 [03:50<03:57,  1.20s/it]"
     ]
    },
    {
     "name": "stdout",
     "output_type": "stream",
     "text": [
      "Output: \n",
      "Sentence: 'Where can I find a card in Seoul?',\n",
      "Knowledge: '서울->Seoul' \n"
     ]
    },
    {
     "name": "stderr",
     "output_type": "stream",
     "text": [
      " 49%|████▊     | 188/386 [03:52<04:54,  1.49s/it]"
     ]
    },
    {
     "name": "stdout",
     "output_type": "stream",
     "text": [
      "\"\"\n",
      "                            Sentence: 'Can I set my own amount to charge when charging on WeChat even though the fixed amounts are 10,000, 30,000, 50,000, and 100,000?',\n",
      "                            Knowledge: '위챗->WeChat', '1만->10,000', '3만->30,000', '5만->50,000', '10만->100,000'\n",
      "                            \"\"\n"
     ]
    },
    {
     "name": "stderr",
     "output_type": "stream",
     "text": [
      " 49%|████▉     | 189/386 [03:53<04:19,  1.32s/it]"
     ]
    },
    {
     "name": "stdout",
     "output_type": "stream",
     "text": [
      "\"\"\n",
      "Sentence: 'Can I use the airport bus?',\n",
      "Knowledge: '공항버스->airport bus'\n",
      "\"\"\n"
     ]
    },
    {
     "name": "stderr",
     "output_type": "stream",
     "text": [
      " 49%|████▉     | 190/386 [03:54<03:54,  1.20s/it]"
     ]
    },
    {
     "name": "stdout",
     "output_type": "stream",
     "text": [
      "\"\"\n",
      "Sentence: 'Can I pay my phone bill with KTC card?',\n",
      "Knowledge: 'KTC->KTC'\"\"\n"
     ]
    },
    {
     "name": "stderr",
     "output_type": "stream",
     "text": [
      " 49%|████▉     | 191/386 [03:56<04:09,  1.28s/it]"
     ]
    },
    {
     "name": "stdout",
     "output_type": "stream",
     "text": [
      "\"\"\n",
      "                            Sentence: 'Is KTC card wowpass card? Or is it T-money card?',\n",
      "                            Knowledge: 'KTC->KTC', 'wowpass->wowpass', '티머니->T-money'\n",
      "                            \"\"\n"
     ]
    },
    {
     "name": "stderr",
     "output_type": "stream",
     "text": [
      " 50%|████▉     | 192/386 [03:57<04:12,  1.30s/it]"
     ]
    },
    {
     "name": "stdout",
     "output_type": "stream",
     "text": [
      "\"\"\n",
      "Sentence: 'Can I find the card at the pier outside the airport?',\n",
      "Knowledge: '공항->airport', '부두막->pier'\n",
      "\"\"\n"
     ]
    },
    {
     "name": "stderr",
     "output_type": "stream",
     "text": [
      " 50%|█████     | 193/386 [03:59<05:02,  1.57s/it]"
     ]
    },
    {
     "name": "stdout",
     "output_type": "stream",
     "text": [
      "\n",
      "Output: \n",
      "Sentence: 'Can the card be used in countries other than Korea?',\n",
      "Knowledge: '한국->Korea'\n"
     ]
    },
    {
     "name": "stderr",
     "output_type": "stream",
     "text": [
      " 50%|█████     | 194/386 [04:00<04:37,  1.45s/it]"
     ]
    },
    {
     "name": "stdout",
     "output_type": "stream",
     "text": [
      "\"\"\n",
      "                            Sentence: 'Can I find a card at Yongsan Station?',\n",
      "                            Knowledge: '용산역->Yongsan Station'\n",
      "                            \"\"\n"
     ]
    },
    {
     "name": "stderr",
     "output_type": "stream",
     "text": [
      " 51%|█████     | 195/386 [04:01<04:17,  1.35s/it]"
     ]
    },
    {
     "name": "stdout",
     "output_type": "stream",
     "text": [
      "\"\"\n",
      "Output: \n",
      "Sentence: 'Can I find a card at Incheon Airport?',\n",
      "Knowledge: '인천공항->Incheon Airport'\n",
      "\"\"\n"
     ]
    },
    {
     "name": "stderr",
     "output_type": "stream",
     "text": [
      " 51%|█████     | 196/386 [04:03<04:08,  1.31s/it]"
     ]
    },
    {
     "name": "stdout",
     "output_type": "stream",
     "text": [
      "\"\"\n",
      "Sentence: 'I can't find the app when I search on my Android phone',\n",
      "Knowledge: '안드로이드->Android'\n",
      "\"\"\n"
     ]
    },
    {
     "name": "stderr",
     "output_type": "stream",
     "text": [
      " 51%|█████     | 197/386 [04:04<04:11,  1.33s/it]"
     ]
    },
    {
     "name": "stdout",
     "output_type": "stream",
     "text": [
      "\"\"\n",
      "Sentence: 'Are there kiosk machines at Busan Gimhae Airport?',\n",
      "Knowledge: '부산->Busan', '김해공항->Gimhae Airport'\n",
      "\"\"\n"
     ]
    },
    {
     "name": "stderr",
     "output_type": "stream",
     "text": [
      " 51%|█████▏    | 198/386 [04:05<03:53,  1.24s/it]"
     ]
    },
    {
     "name": "stdout",
     "output_type": "stream",
     "text": [
      "\"\"\n",
      "Sentence: 'Can I purchase airport bus tickets online?',\n",
      "Knowledge: '공항버스->airport bus' \n",
      "\"\"\n"
     ]
    },
    {
     "name": "stderr",
     "output_type": "stream",
     "text": [
      " 52%|█████▏    | 199/386 [04:06<03:47,  1.22s/it]"
     ]
    },
    {
     "name": "stdout",
     "output_type": "stream",
     "text": [
      "\"\"\n",
      "Sentence: 'Can I use my card in Korean stores?',\n",
      "Knowledge: '한국->Korean', '상점->stores'\n",
      "\"\"\n"
     ]
    },
    {
     "name": "stderr",
     "output_type": "stream",
     "text": [
      " 52%|█████▏    | 200/386 [04:07<03:48,  1.23s/it]"
     ]
    },
    {
     "name": "stdout",
     "output_type": "stream",
     "text": [
      "\"\"\n",
      "Output: \n",
      "Sentence: 'Which app should I download, Naver app or KTC app?',\n",
      "Knowledge: '나마네->Naver', 'KTC->KTC'\n",
      "\"\"\n"
     ]
    },
    {
     "name": "stderr",
     "output_type": "stream",
     "text": [
      " 52%|█████▏    | 201/386 [04:09<03:47,  1.23s/it]"
     ]
    },
    {
     "name": "stdout",
     "output_type": "stream",
     "text": [
      "\n",
      "Output: \n",
      "Sentence: 'Cashback is not available on the card, the problem of cashback not available is currently resolved',\n",
      "Knowledge: '페이백->cashback'\n"
     ]
    },
    {
     "name": "stderr",
     "output_type": "stream",
     "text": [
      " 52%|█████▏    | 202/386 [04:10<03:38,  1.19s/it]"
     ]
    },
    {
     "name": "stdout",
     "output_type": "stream",
     "text": [
      "\"\"\n",
      "Sentence: 'Do I have to come to Korea to find my card after purchase?',\n",
      "Knowledge: '한국->Korea'\n",
      "\"\"\n"
     ]
    },
    {
     "name": "stderr",
     "output_type": "stream",
     "text": [
      " 53%|█████▎    | 203/386 [04:11<03:39,  1.20s/it]"
     ]
    },
    {
     "name": "stdout",
     "output_type": "stream",
     "text": [
      "\"\"\n",
      "Sentence: 'Can I recharge with WeChat or Alipay?',\n",
      "Knowledge: '위챗->WeChat', '알리페이->Alipay'\n",
      "\"\"\n"
     ]
    },
    {
     "name": "stderr",
     "output_type": "stream",
     "text": [
      " 53%|█████▎    | 204/386 [04:12<03:37,  1.20s/it]"
     ]
    },
    {
     "name": "stdout",
     "output_type": "stream",
     "text": [
      "\"\"\n",
      "Output: \n",
      "Sentence: 'How much is the maximum amount you can charge on the card?',\n",
      "Knowledge: '카드->card' \n",
      "\"\"\n"
     ]
    },
    {
     "name": "stderr",
     "output_type": "stream",
     "text": [
      " 53%|█████▎    | 205/386 [04:14<03:54,  1.29s/it]"
     ]
    },
    {
     "name": "stdout",
     "output_type": "stream",
     "text": [
      "\"\"\n",
      "Output: \n",
      "Sentence: 'I charged at the convenience store, but all went to the transportation card balance, and I can't convert it to the balance. Please refund.'\n",
      "Knowledge: '편의점->convenience store' \n",
      "\"\"\n"
     ]
    },
    {
     "name": "stderr",
     "output_type": "stream",
     "text": [
      " 53%|█████▎    | 206/386 [04:15<03:37,  1.21s/it]"
     ]
    },
    {
     "name": "stdout",
     "output_type": "stream",
     "text": [
      "\n",
      "Output: \n",
      "Sentence: 'Can I find a card in Seoul?',\n",
      "Knowledge: '서울->Seoul'\n"
     ]
    },
    {
     "name": "stderr",
     "output_type": "stream",
     "text": [
      " 54%|█████▎    | 207/386 [04:16<03:24,  1.14s/it]"
     ]
    },
    {
     "name": "stdout",
     "output_type": "stream",
     "text": [
      "\"\n",
      "Sentence: 'Can I use a card at the restaurant?',\n",
      "Knowledge: '음식점->restaurant'\n",
      "\"\n"
     ]
    },
    {
     "name": "stderr",
     "output_type": "stream",
     "text": [
      " 54%|█████▍    | 208/386 [04:17<03:08,  1.06s/it]"
     ]
    },
    {
     "name": "stdout",
     "output_type": "stream",
     "text": [
      "Output: \n",
      "Sentence: 'Can you deliver in Korea?'\n",
      "Knowledge: '한국->Korea'\n"
     ]
    },
    {
     "name": "stderr",
     "output_type": "stream",
     "text": [
      " 54%|█████▍    | 209/386 [04:18<03:23,  1.15s/it]"
     ]
    },
    {
     "name": "stdout",
     "output_type": "stream",
     "text": [
      "\"\"\n",
      "Output: \n",
      "Sentence: 'Can I find a card in Korea?',\n",
      "Knowledge: '한국->Korea'\n",
      "\"\"\n"
     ]
    },
    {
     "name": "stderr",
     "output_type": "stream",
     "text": [
      " 54%|█████▍    | 210/386 [04:19<03:29,  1.19s/it]"
     ]
    },
    {
     "name": "stdout",
     "output_type": "stream",
     "text": [
      "\"\"\n",
      "                            Sentence: 'Do I need to recharge cash at the kiosk machine?',\n",
      "                            Knowledge: '키오스크->kiosk'\n",
      "                            \"\"\n"
     ]
    },
    {
     "name": "stderr",
     "output_type": "stream",
     "text": [
      " 55%|█████▍    | 211/386 [04:20<03:30,  1.20s/it]"
     ]
    },
    {
     "name": "stdout",
     "output_type": "stream",
     "text": [
      "\"\"\n",
      "                            Sentence: 'Are there kiosk machines outside of the airport?'\n",
      "                            Knowledge: '공항->airport', '키오스크->kiosk'\n",
      "                            \"\"\n"
     ]
    },
    {
     "name": "stderr",
     "output_type": "stream",
     "text": [
      " 55%|█████▍    | 212/386 [04:22<03:35,  1.24s/it]"
     ]
    },
    {
     "name": "stdout",
     "output_type": "stream",
     "text": [
      "\"\"\n",
      "                            Sentence: 'Can I use the transportation function when recharging via WeChat in the KTC app?',\n",
      "                            Knowledge: 'KTC->KTC', '위챗->WeChat'\n",
      "                            \"\"\n"
     ]
    },
    {
     "name": "stderr",
     "output_type": "stream",
     "text": [
      " 55%|█████▌    | 213/386 [04:23<03:23,  1.18s/it]"
     ]
    },
    {
     "name": "stdout",
     "output_type": "stream",
     "text": [
      "\"\"\n",
      "Output: \n",
      "Sentence: 'Is the subway available?',\n",
      "Knowledge: '지하철->subway' \n",
      "\"\"\n"
     ]
    },
    {
     "name": "stderr",
     "output_type": "stream",
     "text": [
      " 55%|█████▌    | 214/386 [04:24<03:17,  1.15s/it]"
     ]
    },
    {
     "name": "stdout",
     "output_type": "stream",
     "text": [
      "\n",
      "                            Sentence: 'Can I register my card on both Namane app and KTC app simultaneously?',\n",
      "                            Knowledge: 'KTC->KTC'\n"
     ]
    },
    {
     "name": "stderr",
     "output_type": "stream",
     "text": [
      " 56%|█████▌    | 215/386 [04:25<03:13,  1.13s/it]"
     ]
    },
    {
     "name": "stdout",
     "output_type": "stream",
     "text": [
      "\"\"\n",
      "Sentence: 'KTC app is not available for download in China',\n",
      "Knowledge: 'KTC->KTC' \n",
      "\"\"\n"
     ]
    },
    {
     "name": "stderr",
     "output_type": "stream",
     "text": [
      " 56%|█████▌    | 216/386 [04:26<03:08,  1.11s/it]"
     ]
    },
    {
     "name": "stdout",
     "output_type": "stream",
     "text": [
      "\n",
      "번역 결과: \n",
      "Sentence: 'Can exchange students use cards?',\n",
      "Knowledge: '유학생->exchange students'\n"
     ]
    },
    {
     "name": "stderr",
     "output_type": "stream",
     "text": [
      " 56%|█████▌    | 217/386 [04:27<03:00,  1.07s/it]"
     ]
    },
    {
     "name": "stdout",
     "output_type": "stream",
     "text": [
      "\"\"\n",
      "                            Sentence: 'Can I use card in the restaurant?',\n",
      "                            Knowledge: '식당->restaurant'\n",
      "                            \"\"\n"
     ]
    },
    {
     "name": "stderr",
     "output_type": "stream",
     "text": [
      " 56%|█████▋    | 218/386 [04:28<02:59,  1.07s/it]"
     ]
    },
    {
     "name": "stdout",
     "output_type": "stream",
     "text": [
      "\"\"\n",
      "                            Sentence: 'Can I find a card in Seoul city?',\n",
      "                            Knowledge: '서울->Seoul' \n",
      "                            \"\"\n"
     ]
    },
    {
     "name": "stderr",
     "output_type": "stream",
     "text": [
      " 57%|█████▋    | 219/386 [04:29<03:00,  1.08s/it]"
     ]
    },
    {
     "name": "stdout",
     "output_type": "stream",
     "text": [
      "\"\"\n",
      "Sentence: 'Can I use a card at Olive Young?',\n",
      "Knowledge: '올리브영->Olive Young'\n",
      "\"\"\n"
     ]
    },
    {
     "name": "stderr",
     "output_type": "stream",
     "text": [
      " 57%|█████▋    | 220/386 [04:30<02:54,  1.05s/it]"
     ]
    },
    {
     "name": "stdout",
     "output_type": "stream",
     "text": [
      "\"\"\n",
      "Output: \n",
      "Sentence: 'Can I use my card anywhere in Korea?',\n",
      "Knowledge: '한국->Korea'\n",
      "\"\"\n"
     ]
    },
    {
     "name": "stderr",
     "output_type": "stream",
     "text": [
      " 57%|█████▋    | 221/386 [04:31<02:53,  1.05s/it]"
     ]
    },
    {
     "name": "stdout",
     "output_type": "stream",
     "text": [
      "\n",
      "Output: \n",
      "Sentence: 'Can I get cash back at all stores?',\n",
      "Knowledge: '페이백->cash back'\n"
     ]
    },
    {
     "name": "stderr",
     "output_type": "stream",
     "text": [
      " 58%|█████▊    | 222/386 [04:32<02:56,  1.08s/it]"
     ]
    },
    {
     "name": "stdout",
     "output_type": "stream",
     "text": [
      "\"\"\n",
      "Output: \n",
      "Sentence: 'Can I use a credit card in Seoul?',\n",
      "Knowledge: '서울->Seoul' \n",
      "\"\"\n"
     ]
    },
    {
     "name": "stderr",
     "output_type": "stream",
     "text": [
      " 58%|█████▊    | 223/386 [04:34<03:11,  1.17s/it]"
     ]
    },
    {
     "name": "stdout",
     "output_type": "stream",
     "text": [
      "\"\"\n",
      "Sentence: 'On January 4th, I requested a refund on the Namane app and it has not been refunded yet, please check the refund.'\n",
      "Knowledge: '나마네->Namane'\n",
      "\"\"\n"
     ]
    },
    {
     "name": "stderr",
     "output_type": "stream",
     "text": [
      " 58%|█████▊    | 224/386 [04:35<03:01,  1.12s/it]"
     ]
    },
    {
     "name": "stdout",
     "output_type": "stream",
     "text": [
      "Output: \n",
      "Sentence: 'Can I find my card at Busan Airport?',\n",
      "Knowledge: '부산공항->Busan Airport'\n"
     ]
    },
    {
     "name": "stderr",
     "output_type": "stream",
     "text": [
      " 58%|█████▊    | 225/386 [04:36<03:17,  1.23s/it]"
     ]
    },
    {
     "name": "stdout",
     "output_type": "stream",
     "text": [
      "\"\"\n",
      "Output: \n",
      "Sentence: 'Can I take a bus in Gangneung, Gangwon Province?',\n",
      "Knowledge: '강원도 강릉->Gangwon Province' \n",
      "\"\"\n"
     ]
    },
    {
     "name": "stderr",
     "output_type": "stream",
     "text": [
      " 59%|█████▊    | 226/386 [04:37<03:16,  1.23s/it]"
     ]
    },
    {
     "name": "stdout",
     "output_type": "stream",
     "text": [
      "\"\"\n",
      "Output: \n",
      "Sentence: 'Is KTC card Namane card?'\n",
      "Knowledge: 'KTC->KTC', '나마네->Namane'\n",
      "\"\"\n"
     ]
    },
    {
     "name": "stderr",
     "output_type": "stream",
     "text": [
      " 59%|█████▉    | 227/386 [04:39<03:12,  1.21s/it]"
     ]
    },
    {
     "name": "stdout",
     "output_type": "stream",
     "text": [
      "\"\"\n",
      "Sentence: 'Can I use the subway and bus all over the country?',\n",
      "Knowledge: '지하철->subway', '버스->bus'\n",
      "\"\"\n"
     ]
    },
    {
     "name": "stderr",
     "output_type": "stream",
     "text": [
      " 59%|█████▉    | 228/386 [04:40<03:06,  1.18s/it]"
     ]
    },
    {
     "name": "stdout",
     "output_type": "stream",
     "text": [
      "\"\"\n",
      "                            Sentence: 'Does WeChat top-up automatically go to the transportation balance?',\n",
      "                            Knowledge: '위챗->WeChat'\n",
      "                            \"\"\n"
     ]
    },
    {
     "name": "stderr",
     "output_type": "stream",
     "text": [
      " 59%|█████▉    | 229/386 [04:41<03:06,  1.19s/it]"
     ]
    },
    {
     "name": "stdout",
     "output_type": "stream",
     "text": [
      "\"\"\n",
      "Sentence: 'Card registration is not available on the Namanee app, the current issue has been resolved'\n",
      "Knowledge: '나마네->Namanee'\"\"\n"
     ]
    },
    {
     "name": "stderr",
     "output_type": "stream",
     "text": [
      " 60%|█████▉    | 230/386 [04:42<02:58,  1.14s/it]"
     ]
    },
    {
     "name": "stdout",
     "output_type": "stream",
     "text": [
      "\"\"\n",
      "Output: \n",
      "Sentence: 'Can I top up via WeChat?',\n",
      "Knowledge: '위챗->WeChat'\n",
      "\"\"\n"
     ]
    },
    {
     "name": "stderr",
     "output_type": "stream",
     "text": [
      " 60%|█████▉    | 231/386 [04:43<03:08,  1.22s/it]"
     ]
    },
    {
     "name": "stdout",
     "output_type": "stream",
     "text": [
      "\n",
      "Output: \n",
      "Sentence: 'I only booked a trip to Jeju Island on ctrip, can I get a refund?',\n",
      "Knowledge: '제주도->Jeju Island', 'ctrip->ctrip'\n"
     ]
    },
    {
     "name": "stderr",
     "output_type": "stream",
     "text": [
      " 60%|██████    | 232/386 [04:44<03:03,  1.19s/it]"
     ]
    },
    {
     "name": "stdout",
     "output_type": "stream",
     "text": [
      "\"\"\n",
      "                            Sentence: 'Do you need NFC function on your phone to use transportation function?',\n",
      "                            Knowledge: 'NFC->NFC'\n",
      "                            \"\"\n"
     ]
    },
    {
     "name": "stderr",
     "output_type": "stream",
     "text": [
      " 60%|██████    | 233/386 [04:45<02:53,  1.13s/it]"
     ]
    },
    {
     "name": "stdout",
     "output_type": "stream",
     "text": [
      "\"\"\n",
      "Sentence: 'Is KTC card a transportation card?',\n",
      "Knowledge: 'KTC->KTC' \n",
      "\"\"\n"
     ]
    },
    {
     "name": "stderr",
     "output_type": "stream",
     "text": [
      " 61%|██████    | 234/386 [04:47<03:06,  1.23s/it]"
     ]
    },
    {
     "name": "stdout",
     "output_type": "stream",
     "text": [
      "\"\"\n",
      "Sentence: 'I used the Namane app for refund, but the money didn't come into my Alipay account',\n",
      "Knowledge: '나마네->Namane', '알리페이->Alipay'\n",
      "\"\"\n"
     ]
    },
    {
     "name": "stderr",
     "output_type": "stream",
     "text": [
      " 61%|██████    | 235/386 [04:48<03:00,  1.20s/it]"
     ]
    },
    {
     "name": "stdout",
     "output_type": "stream",
     "text": [
      "\"\"\n",
      "Sentence: 'Can you convert the Pay balance to the Traffic balance on the KTC app?',\n",
      "Knowledge: 'KTC->KTC'\"\n"
     ]
    },
    {
     "name": "stderr",
     "output_type": "stream",
     "text": [
      " 61%|██████    | 236/386 [04:50<03:13,  1.29s/it]"
     ]
    },
    {
     "name": "stdout",
     "output_type": "stream",
     "text": [
      "\"\"\n",
      "Sentence: 'Can I charge transportation balance on KTC card at T-money machine?',\n",
      "Knowledge: '티머니->T-money', 'KTC->KTC'\n",
      "\"\"\n"
     ]
    },
    {
     "name": "stderr",
     "output_type": "stream",
     "text": [
      " 61%|██████▏   | 237/386 [04:51<03:12,  1.29s/it]"
     ]
    },
    {
     "name": "stdout",
     "output_type": "stream",
     "text": [
      "\"\"\n",
      "Sentence: 'Can I only get a card issued at Korean airports?',\n",
      "Knowledge: '한국->Korean', '공항->airports'\n",
      "\"\"\n"
     ]
    },
    {
     "name": "stderr",
     "output_type": "stream",
     "text": [
      " 62%|██████▏   | 238/386 [04:53<03:57,  1.60s/it]"
     ]
    },
    {
     "name": "stdout",
     "output_type": "stream",
     "text": [
      "Output: \n",
      "Sentence: 'How do you download apps on an Android phone?'\n",
      "Knowledge: '안드로이드->Android'\n"
     ]
    },
    {
     "name": "stderr",
     "output_type": "stream",
     "text": [
      " 62%|██████▏   | 239/386 [04:54<03:33,  1.45s/it]"
     ]
    },
    {
     "name": "stdout",
     "output_type": "stream",
     "text": [
      "\"\"\n",
      "Sentence: 'Can the KTC app currently convert between Pay balance and Transportation balance?',\n",
      "Knowledge: 'KTC->KTC'\"\n"
     ]
    },
    {
     "name": "stderr",
     "output_type": "stream",
     "text": [
      " 62%|██████▏   | 240/386 [04:55<03:14,  1.33s/it]"
     ]
    },
    {
     "name": "stdout",
     "output_type": "stream",
     "text": [
      "\"\"\n",
      "Sentence: 'Can iPhone be charged with WeChat?',\n",
      "Knowledge: '아이폰->iPhone'\"\"\n"
     ]
    },
    {
     "name": "stderr",
     "output_type": "stream",
     "text": [
      " 62%|██████▏   | 241/386 [04:56<03:05,  1.28s/it]"
     ]
    },
    {
     "name": "stdout",
     "output_type": "stream",
     "text": [
      "\n",
      "Output: \n",
      "Sentence: 'Can I use a card at the barber shop?',\n",
      "Knowledge: '이발관->barber shop'\n"
     ]
    },
    {
     "name": "stderr",
     "output_type": "stream",
     "text": [
      " 63%|██████▎   | 242/386 [04:57<02:52,  1.20s/it]"
     ]
    },
    {
     "name": "stdout",
     "output_type": "stream",
     "text": [
      "\"\"\n",
      "Sentence: 'Can I use domestic delivery service after purchasing from ctrip?',\n",
      "Knowledge: 'ctrip->ctrip'\n",
      "\"\"\n"
     ]
    },
    {
     "name": "stderr",
     "output_type": "stream",
     "text": [
      " 63%|██████▎   | 243/386 [04:59<02:47,  1.17s/it]"
     ]
    },
    {
     "name": "stdout",
     "output_type": "stream",
     "text": [
      "\"\"\n",
      "Output: \n",
      "Sentence: 'Will the card be usable in a year?',\n",
      "Knowledge: '1년->1 year' \n",
      "\"\"\n"
     ]
    },
    {
     "name": "stderr",
     "output_type": "stream",
     "text": [
      " 63%|██████▎   | 244/386 [05:00<02:45,  1.16s/it]"
     ]
    },
    {
     "name": "stdout",
     "output_type": "stream",
     "text": [
      "\n",
      "Output: \n",
      "Sentence: 'When is WeChat recharge fee exemption valid until?',\n",
      "Knowledge: '위챗->WeChat' \n"
     ]
    },
    {
     "name": "stderr",
     "output_type": "stream",
     "text": [
      " 63%|██████▎   | 245/386 [05:01<02:47,  1.19s/it]"
     ]
    },
    {
     "name": "stdout",
     "output_type": "stream",
     "text": [
      "Output: \n",
      "Sentence: 'Where is the Myeongdong kiosk located?',\n",
      "Knowledge: '명동->Myeongdong', '키오스크->kiosk'\n"
     ]
    },
    {
     "name": "stderr",
     "output_type": "stream",
     "text": [
      " 64%|██████▎   | 246/386 [05:02<02:49,  1.21s/it]"
     ]
    },
    {
     "name": "stdout",
     "output_type": "stream",
     "text": [
      "\"\"\n",
      "Output: \n",
      "Sentence: 'Is there a kiosk machine in Jeju Island?'\n",
      "Knowledge: '제주도->Jeju Island', '키오스크->kiosk' \n",
      "\"\"\n"
     ]
    },
    {
     "name": "stderr",
     "output_type": "stream",
     "text": [
      " 64%|██████▍   | 247/386 [05:03<02:46,  1.20s/it]"
     ]
    },
    {
     "name": "stdout",
     "output_type": "stream",
     "text": [
      "\n",
      "Output: \n",
      "Sentence: 'Are there kiosk machines in Busan?',\n",
      "Knowledge: '부산->Busan', '키오스크->kiosk'\n"
     ]
    },
    {
     "name": "stderr",
     "output_type": "stream",
     "text": [
      " 64%|██████▍   | 248/386 [05:05<02:54,  1.26s/it]"
     ]
    },
    {
     "name": "stdout",
     "output_type": "stream",
     "text": [
      "\"\"\n",
      "Sentence: 'I didn't receive the Sejong University event coupon.',\n",
      "Knowledge: '세종대->Sejong University', '이벤트->event', '쿠폰->coupon'\n",
      "\"\"\n"
     ]
    },
    {
     "name": "stderr",
     "output_type": "stream",
     "text": [
      " 65%|██████▍   | 249/386 [05:06<02:45,  1.21s/it]"
     ]
    },
    {
     "name": "stdout",
     "output_type": "stream",
     "text": [
      "\"\"\n",
      "Sentence: 'Can I recharge if WeChat Pay is not available?'\n",
      "Knowledge: '위챗페이->WeChat Pay'\n",
      "\"\"\n"
     ]
    },
    {
     "name": "stderr",
     "output_type": "stream",
     "text": [
      " 65%|██████▍   | 250/386 [05:07<02:57,  1.31s/it]"
     ]
    },
    {
     "name": "stdout",
     "output_type": "stream",
     "text": [
      "\"\n",
      "Sentence: 'There is 100,000 won on the card but it cannot be refunded due to 60% unused',\n",
      "Knowledge: '10만원->100,000 won', '60%->60%''\n",
      "\"\n"
     ]
    },
    {
     "name": "stderr",
     "output_type": "stream",
     "text": [
      " 65%|██████▌   | 251/386 [05:09<02:48,  1.25s/it]"
     ]
    },
    {
     "name": "stdout",
     "output_type": "stream",
     "text": [
      "\"\"\n",
      "Sentence: 'Is it possible to use the unused amount on the card when I come to Korea?',\n",
      "Knowledge: '한국->Korea'\n",
      "\"\"\n"
     ]
    },
    {
     "name": "stderr",
     "output_type": "stream",
     "text": [
      " 65%|██████▌   | 252/386 [05:10<02:42,  1.22s/it]"
     ]
    },
    {
     "name": "stdout",
     "output_type": "stream",
     "text": [
      "\"\"\n",
      "                            Sentence: 'Are there any other apps besides NAMANE app?',\n",
      "                            Knowledge: 'NAMANE->NAMANE'\n",
      "                            \"\"\n"
     ]
    },
    {
     "name": "stderr",
     "output_type": "stream",
     "text": [
      " 66%|██████▌   | 253/386 [05:11<02:36,  1.17s/it]"
     ]
    },
    {
     "name": "stdout",
     "output_type": "stream",
     "text": [
      "Output: \n",
      "Sentence: 'Can I get a card at Incheon Airport?',\n",
      "Knowledge: '인천공항->Incheon Airport'\n"
     ]
    },
    {
     "name": "stderr",
     "output_type": "stream",
     "text": [
      " 66%|██████▌   | 254/386 [05:12<02:34,  1.17s/it]"
     ]
    },
    {
     "name": "stdout",
     "output_type": "stream",
     "text": [
      "\n",
      "Output: \n",
      "Sentence: 'Where can I get a card issued in Seoul?'\n",
      "Knowledge: '서울->Seoul'\n"
     ]
    },
    {
     "name": "stderr",
     "output_type": "stream",
     "text": [
      " 66%|██████▌   | 255/386 [05:13<02:31,  1.16s/it]"
     ]
    },
    {
     "name": "stdout",
     "output_type": "stream",
     "text": [
      "\"\"\n",
      "                            Sentence: \"What's the difference between KTC card and Tmoney?\"\n",
      "                            Knowledge: 'KTC->KTC', 'Tmoney->Tmoney'\n",
      "                            \"\"\n"
     ]
    },
    {
     "name": "stderr",
     "output_type": "stream",
     "text": [
      " 66%|██████▋   | 256/386 [05:14<02:28,  1.14s/it]"
     ]
    },
    {
     "name": "stdout",
     "output_type": "stream",
     "text": [
      "\"\"\n",
      "Sentence: 'Can I get it at Gimhae Airport?',\n",
      "Knowledge: '김해공항->Gimhae Airport'\n",
      "\"\"\n"
     ]
    },
    {
     "name": "stderr",
     "output_type": "stream",
     "text": [
      " 67%|██████▋   | 257/386 [05:15<02:24,  1.12s/it]"
     ]
    },
    {
     "name": "stdout",
     "output_type": "stream",
     "text": [
      "\"\"\n",
      "                            Sentence: 'Can you charge transportation card at the convenience store?',\n",
      "                            Knowledge: '편의점->convenience store'\n",
      "                            \"\"\n"
     ]
    },
    {
     "name": "stderr",
     "output_type": "stream",
     "text": [
      " 67%|██████▋   | 258/386 [05:16<02:27,  1.15s/it]"
     ]
    },
    {
     "name": "stdout",
     "output_type": "stream",
     "text": [
      "\"\"\n",
      "Sentence: 'Can I pay with my transportation card balance when purchasing at the convenience store?',\n",
      "Knowledge: '편의점->convenience store' \n",
      "\"\"\n"
     ]
    },
    {
     "name": "stderr",
     "output_type": "stream",
     "text": [
      " 67%|██████▋   | 259/386 [05:17<02:20,  1.10s/it]"
     ]
    },
    {
     "name": "stdout",
     "output_type": "stream",
     "text": [
      "Output: \n",
      "Sentence: 'Is it possible to charge in all subways?', \n",
      "Knowledge: '지하철->subways'\n"
     ]
    },
    {
     "name": "stderr",
     "output_type": "stream",
     "text": [
      " 67%|██████▋   | 260/386 [05:18<02:15,  1.07s/it]"
     ]
    },
    {
     "name": "stdout",
     "output_type": "stream",
     "text": [
      "\n",
      "Output: \n",
      "Sentence: 'KTC balance refund method inquiry',\n",
      "Knowledge: 'KTC->KTC'\n"
     ]
    },
    {
     "name": "stderr",
     "output_type": "stream",
     "text": [
      " 68%|██████▊   | 261/386 [05:19<02:11,  1.05s/it]"
     ]
    },
    {
     "name": "stdout",
     "output_type": "stream",
     "text": [
      "\"\"\n",
      "                            Sentence: 'Are WeChat top-ups still exempt from fees?',\n",
      "                            Knowledge: '위챗->WeChat'\n",
      "                            \"\"\n"
     ]
    },
    {
     "name": "stderr",
     "output_type": "stream",
     "text": [
      " 68%|██████▊   | 262/386 [05:21<02:24,  1.16s/it]"
     ]
    },
    {
     "name": "stdout",
     "output_type": "stream",
     "text": [
      "\"\n",
      "Sentence: 'Is Jeonju available and subway transfer available?',\n",
      "Knowledge: '전주->Jeonju', '지하철->subway' \n",
      "\"\n"
     ]
    },
    {
     "name": "stderr",
     "output_type": "stream",
     "text": [
      " 68%|██████▊   | 263/386 [05:22<02:22,  1.16s/it]"
     ]
    },
    {
     "name": "stdout",
     "output_type": "stream",
     "text": [
      "\"\"\n",
      "Output:\n",
      "Sentence: 'Please tell me how to get a refund for NAMANE.',\n",
      "Knowledge: 'NAMANE->NAMANE'\n",
      "\"\"\n"
     ]
    },
    {
     "name": "stderr",
     "output_type": "stream",
     "text": [
      " 68%|██████▊   | 264/386 [05:23<02:23,  1.18s/it]"
     ]
    },
    {
     "name": "stdout",
     "output_type": "stream",
     "text": [
      "\n",
      "Output:\n",
      "Sentence: 'The difference between NAMANE and KTC',\n",
      "Knowledge: 'KTC->KTC', 'NAMANE->NAMANE'\n"
     ]
    },
    {
     "name": "stderr",
     "output_type": "stream",
     "text": [
      " 69%|██████▊   | 265/386 [05:24<02:17,  1.14s/it]"
     ]
    },
    {
     "name": "stdout",
     "output_type": "stream",
     "text": [
      "\"\"\n",
      "Sentence: 'Until when is the WeChat commission event?',\n",
      "Knowledge: '위챗->WeChat', '이벤트->event'\n",
      "\"\"\n"
     ]
    },
    {
     "name": "stderr",
     "output_type": "stream",
     "text": [
      " 69%|██████▉   | 266/386 [05:25<02:13,  1.12s/it]"
     ]
    },
    {
     "name": "stdout",
     "output_type": "stream",
     "text": [
      "Output: \n",
      "Sentence: 'Please let me know how to top up via WeChat',\n",
      "Knowledge: '위챗->WeChat'\n"
     ]
    },
    {
     "name": "stderr",
     "output_type": "stream",
     "text": [
      " 69%|██████▉   | 267/386 [05:27<02:15,  1.14s/it]"
     ]
    },
    {
     "name": "stdout",
     "output_type": "stream",
     "text": [
      "\"\"\n",
      "Output: \n",
      "Sentence: 'Is there a place where I can get a visa in Jeju Island?',\n",
      "Knowledge: '제주도->Jeju Island' \n",
      "\"\"\n"
     ]
    },
    {
     "name": "stderr",
     "output_type": "stream",
     "text": [
      " 69%|██████▉   | 268/386 [05:28<02:12,  1.12s/it]"
     ]
    },
    {
     "name": "stdout",
     "output_type": "stream",
     "text": [
      "Output: \n",
      "Sentence: 'Can I download an Android APP?',\n",
      "Knowledge: '안드로이드->Android'\n"
     ]
    },
    {
     "name": "stderr",
     "output_type": "stream",
     "text": [
      " 70%|██████▉   | 269/386 [05:29<02:14,  1.15s/it]"
     ]
    },
    {
     "name": "stdout",
     "output_type": "stream",
     "text": [
      "Output: \n",
      "Sentence: 'Does the transportation card work? Can I also pay at the convenience store?'\n",
      "Knowledge: '편의점->convenience store'\n"
     ]
    },
    {
     "name": "stderr",
     "output_type": "stream",
     "text": [
      " 70%|██████▉   | 270/386 [05:30<02:29,  1.29s/it]"
     ]
    },
    {
     "name": "stdout",
     "output_type": "stream",
     "text": [
      "\"\"\n",
      "                            Sentence: 'Where can I get the Incheon Airport? Can I take the subway or bus?',\n",
      "                            Knowledge: '인천공항->Incheon Airport', '지하철->subway', '버스->bus'\n",
      "                            \"\"\n"
     ]
    },
    {
     "name": "stderr",
     "output_type": "stream",
     "text": [
      " 70%|███████   | 271/386 [05:31<02:16,  1.19s/it]"
     ]
    },
    {
     "name": "stdout",
     "output_type": "stream",
     "text": [
      "\"\"\n",
      "Output: \n",
      "Sentence: 'Is it available at the restaurant?',\n",
      "Knowledge: '식당->restaurant'\n",
      "\"\"\n"
     ]
    },
    {
     "name": "stderr",
     "output_type": "stream",
     "text": [
      " 70%|███████   | 272/386 [05:32<02:10,  1.14s/it]"
     ]
    },
    {
     "name": "stdout",
     "output_type": "stream",
     "text": [
      "\"\"\n",
      "Output: \n",
      "Sentence: 'Can all of Korea be used for transportation?'\n",
      "Knowledge: '한국->Korea' \n",
      "\"\"\n"
     ]
    },
    {
     "name": "stderr",
     "output_type": "stream",
     "text": [
      " 71%|███████   | 273/386 [05:33<02:06,  1.12s/it]"
     ]
    },
    {
     "name": "stdout",
     "output_type": "stream",
     "text": [
      "\"\n",
      "                            Sentence: 'Can I get it for free?',\n",
      "                            Knowledge: '무료->free'\n",
      "                            \"\n"
     ]
    },
    {
     "name": "stderr",
     "output_type": "stream",
     "text": [
      " 71%|███████   | 274/386 [05:35<02:14,  1.20s/it]"
     ]
    },
    {
     "name": "stdout",
     "output_type": "stream",
     "text": [
      "\"\"\n",
      "Output: \n",
      "Sentence: 'Can I use it at the subway and convenience store? Are transportation expenses and payment amounts universal?'\n",
      "Knowledge: '지하철->subway', '편의점->convenience store' \n",
      "\"\"\n"
     ]
    },
    {
     "name": "stderr",
     "output_type": "stream",
     "text": [
      " 71%|███████   | 275/386 [05:36<02:05,  1.13s/it]"
     ]
    },
    {
     "name": "stdout",
     "output_type": "stream",
     "text": [
      "\"\"\n",
      "Sentence: 'What is the WeChat top-up limit?',\n",
      "Knowledge: '위챗->WeChat'\n",
      "\"\"\n"
     ]
    },
    {
     "name": "stderr",
     "output_type": "stream",
     "text": [
      " 72%|███████▏  | 276/386 [05:37<02:01,  1.10s/it]"
     ]
    },
    {
     "name": "stdout",
     "output_type": "stream",
     "text": [
      "\"\"\n",
      "Sentence: 'Where can I get a card issued in Jeju Island?'\n",
      "Knowledge: '제주도->Jeju Island'\"\"\n"
     ]
    },
    {
     "name": "stderr",
     "output_type": "stream",
     "text": [
      " 72%|███████▏  | 277/386 [05:38<02:07,  1.17s/it]"
     ]
    },
    {
     "name": "stdout",
     "output_type": "stream",
     "text": [
      "\"\"\n",
      "Output: \n",
      "Sentence: 'Is it the same as Naman? Naman is not issued now?',\n",
      "Knowledge: '나마네->Naman' \n",
      "\"\"\n"
     ]
    },
    {
     "name": "stderr",
     "output_type": "stream",
     "text": [
      " 72%|███████▏  | 278/386 [05:40<02:10,  1.21s/it]"
     ]
    },
    {
     "name": "stdout",
     "output_type": "stream",
     "text": [
      "\"\"\n",
      "Sentence: 'Should I buy now or buy on the day of the trip?',\n",
      "Knowledge: '당일->on the day'\"\n"
     ]
    },
    {
     "name": "stderr",
     "output_type": "stream",
     "text": [
      " 72%|███████▏  | 279/386 [05:41<02:06,  1.18s/it]"
     ]
    },
    {
     "name": "stdout",
     "output_type": "stream",
     "text": [
      "\"\"\n",
      "                            Sentence: 'Are there any other places to get cards besides the kiosk?',\n",
      "                            Knowledge: '키오스크->kiosk'\n",
      "                            \"\"\n"
     ]
    },
    {
     "name": "stderr",
     "output_type": "stream",
     "text": [
      " 73%|███████▎  | 280/386 [05:42<01:59,  1.13s/it]"
     ]
    },
    {
     "name": "stdout",
     "output_type": "stream",
     "text": [
      "\"\n",
      "Sentence: 'Can I recharge cash in the subway??',\n",
      "Knowledge: '지하철->subway'\n",
      "\"\n"
     ]
    },
    {
     "name": "stderr",
     "output_type": "stream",
     "text": [
      " 73%|███████▎  | 281/386 [05:43<02:03,  1.18s/it]"
     ]
    },
    {
     "name": "stdout",
     "output_type": "stream",
     "text": [
      "Output: \n",
      "Sentence: 'If I have only this, I won't need a visa card, right?',\n",
      "Knowledge: '비자카드->visa card'\n"
     ]
    },
    {
     "name": "stderr",
     "output_type": "stream",
     "text": [
      " 73%|███████▎  | 282/386 [05:44<01:56,  1.12s/it]"
     ]
    },
    {
     "name": "stdout",
     "output_type": "stream",
     "text": [
      "\n",
      "                            Sentence: 'Is it possible to pay anywhere in Seoul?',\n",
      "                            Knowledge: '서울->Seoul'\n"
     ]
    },
    {
     "name": "stderr",
     "output_type": "stream",
     "text": [
      " 73%|███████▎  | 283/386 [05:45<01:52,  1.09s/it]"
     ]
    },
    {
     "name": "stdout",
     "output_type": "stream",
     "text": [
      "\"\"\n",
      "Sentence: 'Can I use the convenience store for everything?',\n",
      "Knowledge: '편의점->convenience store'\n",
      "\"\"\n"
     ]
    },
    {
     "name": "stderr",
     "output_type": "stream",
     "text": [
      " 74%|███████▎  | 284/386 [05:46<01:48,  1.07s/it]"
     ]
    },
    {
     "name": "stdout",
     "output_type": "stream",
     "text": [
      "\"\n",
      "Sentence: 'What is Payback like?',\n",
      "Knowledge: '페이백->Payback'\n",
      "\"\n"
     ]
    },
    {
     "name": "stderr",
     "output_type": "stream",
     "text": [
      " 74%|███████▍  | 285/386 [05:47<01:47,  1.06s/it]"
     ]
    },
    {
     "name": "stdout",
     "output_type": "stream",
     "text": [
      "\"\"\n",
      "Output: \n",
      "Sentence: 'Can I receive it tomorrow if I purchase it now?',\n",
      "Knowledge: '내일->tomorrow' \n",
      "\"\"\n"
     ]
    },
    {
     "name": "stderr",
     "output_type": "stream",
     "text": [
      " 74%|███████▍  | 286/386 [05:48<01:51,  1.12s/it]"
     ]
    },
    {
     "name": "stdout",
     "output_type": "stream",
     "text": [
      "\"\"\n",
      "Output: \n",
      "Sentence: 'Is ktc the same as Namane card?',\n",
      "Knowledge: 'ktc->ktc', '나마네->Namane'\n",
      "\"\"\n"
     ]
    },
    {
     "name": "stderr",
     "output_type": "stream",
     "text": [
      " 74%|███████▍  | 287/386 [05:49<01:46,  1.08s/it]"
     ]
    },
    {
     "name": "stdout",
     "output_type": "stream",
     "text": [
      "\"\"\n",
      "Sentence: 'Can it arrive on Saturday if I purchase it now?',\n",
      "Knowledge: '토요일->Saturday'\n",
      "\"\"\n"
     ]
    },
    {
     "name": "stderr",
     "output_type": "stream",
     "text": [
      " 75%|███████▍  | 288/386 [05:50<01:48,  1.11s/it]"
     ]
    },
    {
     "name": "stdout",
     "output_type": "stream",
     "text": [
      "\"\"\n",
      "                            Sentence: 'Do I need to pick up at the airport?',\n",
      "                            Knowledge: '공항->airport'\n",
      "                            \"\"\n"
     ]
    },
    {
     "name": "stderr",
     "output_type": "stream",
     "text": [
      " 75%|███████▍  | 289/386 [05:52<01:47,  1.10s/it]"
     ]
    },
    {
     "name": "stdout",
     "output_type": "stream",
     "text": [
      "\"\"\n",
      "                            Sentence: 'Can you also charge Tmoney at the place where you charge it?',\n",
      "                            Knowledge: 'Tmoney->Tmoney'\n",
      "                            \"\"\n"
     ]
    },
    {
     "name": "stderr",
     "output_type": "stream",
     "text": [
      " 75%|███████▌  | 290/386 [05:53<01:49,  1.14s/it]"
     ]
    },
    {
     "name": "stdout",
     "output_type": "stream",
     "text": [
      "\"\"\n",
      "                            Sentence: 'Can I also get it at Busan Airport?',\n",
      "                            Knowledge: '부산->Busan', '공항->Airport'\n",
      "                            \"\"\n"
     ]
    },
    {
     "name": "stderr",
     "output_type": "stream",
     "text": [
      " 75%|███████▌  | 291/386 [05:54<01:48,  1.15s/it]"
     ]
    },
    {
     "name": "stdout",
     "output_type": "stream",
     "text": [
      "\"\"\n",
      "Sentence: 'I purchased it at Hanyumang but didn't receive the voucher',\n",
      "Knowledge: '한유망->Hanyumang'\n",
      "\"\"\n"
     ]
    },
    {
     "name": "stderr",
     "output_type": "stream",
     "text": [
      " 76%|███████▌  | 292/386 [05:55<01:41,  1.08s/it]"
     ]
    },
    {
     "name": "stdout",
     "output_type": "stream",
     "text": [
      "\"\"\n",
      "Sentence: 'Is Jeju Island available?',\n",
      "Knowledge: '제주도->Jeju Island'\n",
      "\"\"\n"
     ]
    },
    {
     "name": "stderr",
     "output_type": "stream",
     "text": [
      " 76%|███████▌  | 293/386 [05:56<01:47,  1.16s/it]"
     ]
    },
    {
     "name": "stdout",
     "output_type": "stream",
     "text": [
      "\n",
      "Output:  \n",
      "Sentence: 'Does the 4% WeChat commission go straight back into the card?',\n",
      "Knowledge: '위챗->WeChat', '4%->4%'\n"
     ]
    },
    {
     "name": "stderr",
     "output_type": "stream",
     "text": [
      " 76%|███████▌  | 294/386 [05:57<01:48,  1.18s/it]"
     ]
    },
    {
     "name": "stdout",
     "output_type": "stream",
     "text": [
      "\"\"\n",
      "Output: \n",
      "Sentence: 'Jeju Island, can we get a visa?',\n",
      "Knowledge: '제주도->Jeju Island' \n",
      "\"\"\n"
     ]
    },
    {
     "name": "stderr",
     "output_type": "stream",
     "text": [
      " 76%|███████▋  | 295/386 [05:58<01:43,  1.14s/it]"
     ]
    },
    {
     "name": "stdout",
     "output_type": "stream",
     "text": [
      "Output: \n",
      "Sentence: 'Can I charge at the convenience store?',\n",
      "Knowledge: '편의점->convenience store'\n"
     ]
    },
    {
     "name": "stderr",
     "output_type": "stream",
     "text": [
      " 77%|███████▋  | 296/386 [06:00<01:40,  1.12s/it]"
     ]
    },
    {
     "name": "stdout",
     "output_type": "stream",
     "text": [
      "\"\"\n",
      "Output: \n",
      "Sentence: 'Will I not be able to use namane later?',\n",
      "Knowledge: 'namane->namane'\"\n"
     ]
    },
    {
     "name": "stderr",
     "output_type": "stream",
     "text": [
      " 77%|███████▋  | 297/386 [06:01<01:37,  1.09s/it]"
     ]
    },
    {
     "name": "stdout",
     "output_type": "stream",
     "text": [
      "\"\"\n",
      "Sentence: 'Does WeChat recharge come back immediately?'\n",
      "Knowledge: '위챗->WeChat'\"\"\n"
     ]
    },
    {
     "name": "stderr",
     "output_type": "stream",
     "text": [
      " 77%|███████▋  | 298/386 [06:02<01:33,  1.06s/it]"
     ]
    },
    {
     "name": "stdout",
     "output_type": "stream",
     "text": [
      "\n",
      "                            Sentence: 'Please tell me the refund method only',\n",
      "                            Knowledge: 'namane->namane'\n"
     ]
    },
    {
     "name": "stderr",
     "output_type": "stream",
     "text": [
      " 77%|███████▋  | 299/386 [06:03<01:31,  1.06s/it]"
     ]
    },
    {
     "name": "stdout",
     "output_type": "stream",
     "text": [
      "\n",
      "Output: \n",
      "Sentence: 'Please tell me how to download Android',\n",
      "Knowledge: '안드로이드->Android'\n"
     ]
    },
    {
     "name": "stderr",
     "output_type": "stream",
     "text": [
      " 78%|███████▊  | 300/386 [06:04<01:35,  1.11s/it]"
     ]
    },
    {
     "name": "stdout",
     "output_type": "stream",
     "text": [
      "\"\"\n",
      "                            Sentence: 'Do I have to use a total of 60% of the charged amount for a refund?',\n",
      "                            Knowledge: '60%->60%'\n",
      "                            \"\"\n"
     ]
    },
    {
     "name": "stderr",
     "output_type": "stream",
     "text": [
      " 78%|███████▊  | 301/386 [06:05<01:32,  1.09s/it]"
     ]
    },
    {
     "name": "stdout",
     "output_type": "stream",
     "text": [
      "\"\"\n",
      "Sentence: 'Can I use the card issued in Jeju Island?',\n",
      "Knowledge: '제주도->Jeju Island'\n",
      "\"\"\n"
     ]
    },
    {
     "name": "stderr",
     "output_type": "stream",
     "text": [
      " 78%|███████▊  | 302/386 [06:06<01:33,  1.11s/it]"
     ]
    },
    {
     "name": "stdout",
     "output_type": "stream",
     "text": [
      "Output: \n",
      "Sentence: 'Is there a charging kiosk in Seoul?'\n",
      "Knowledge: '서울->Seoul', '키오스크->kiosk' \n"
     ]
    },
    {
     "name": "stderr",
     "output_type": "stream",
     "text": [
      " 78%|███████▊  | 303/386 [06:07<01:31,  1.10s/it]"
     ]
    },
    {
     "name": "stdout",
     "output_type": "stream",
     "text": [
      "\n",
      "Output: \n",
      "Sentence: 'Is it possible to use a taxi?'\n",
      "Knowledge: '택시->taxi'\n"
     ]
    },
    {
     "name": "stderr",
     "output_type": "stream",
     "text": [
      " 79%|███████▉  | 304/386 [06:08<01:29,  1.09s/it]"
     ]
    },
    {
     "name": "stdout",
     "output_type": "stream",
     "text": [
      "Output: \n",
      "Sentence: 'Can I charge my transportation card with WeChat?',\n",
      "Knowledge: '위챗->WeChat'\n"
     ]
    },
    {
     "name": "stderr",
     "output_type": "stream",
     "text": [
      " 79%|███████▉  | 305/386 [06:09<01:34,  1.16s/it]"
     ]
    },
    {
     "name": "stdout",
     "output_type": "stream",
     "text": [
      "\"\"\n",
      "Sentence: 'Do you charge cash at the kiosk in Incheon?',\n",
      "Knowledge: '인천->Incheon', '키오스크->kiosk'\n",
      "\"\"\n"
     ]
    },
    {
     "name": "stderr",
     "output_type": "stream",
     "text": [
      " 79%|███████▉  | 306/386 [06:11<01:31,  1.14s/it]"
     ]
    },
    {
     "name": "stdout",
     "output_type": "stream",
     "text": [
      "\n",
      "Output: \n",
      "Sentence: 'The card registration is not available in the KTC app',\n",
      "Knowledge: 'KTC->KTC'\n"
     ]
    },
    {
     "name": "stderr",
     "output_type": "stream",
     "text": [
      " 80%|███████▉  | 307/386 [06:12<01:41,  1.28s/it]"
     ]
    },
    {
     "name": "stdout",
     "output_type": "stream",
     "text": [
      "\"\"\n",
      "                            Sentence: 'If I recharge with WeChat in Naver, will the commission be exempt?',\n",
      "                            Knowledge: '나마네->Naver', '위챗->WeChat'\n",
      "                            \"\"\n"
     ]
    },
    {
     "name": "stderr",
     "output_type": "stream",
     "text": [
      " 80%|███████▉  | 308/386 [06:13<01:40,  1.29s/it]"
     ]
    },
    {
     "name": "stdout",
     "output_type": "stream",
     "text": [
      "\"\"\n",
      "                            Sentence: 'Can I transfer money with Ktc card in Namane?',\n",
      "                            Knowledge: '나마네->Namane', 'Ktc->Ktc'\n",
      "                            \"\"\n"
     ]
    },
    {
     "name": "stderr",
     "output_type": "stream",
     "text": [
      " 80%|████████  | 309/386 [06:14<01:30,  1.18s/it]"
     ]
    },
    {
     "name": "stdout",
     "output_type": "stream",
     "text": [
      "Output: \n",
      "Sentence: 'Is there e sim card?',\n",
      "Knowledge: 'e sim->e sim'\n"
     ]
    },
    {
     "name": "stderr",
     "output_type": "stream",
     "text": [
      " 80%|████████  | 310/386 [06:16<01:31,  1.21s/it]"
     ]
    },
    {
     "name": "stdout",
     "output_type": "stream",
     "text": [
      "\"\"\n",
      "                            Sentence: 'Why is registration in the Namane app possible but not in the KTC app?',\n",
      "                            Knowledge: '나마네->Namane', 'ktc->KTC'\n",
      "                            \"\"\n"
     ]
    },
    {
     "name": "stderr",
     "output_type": "stream",
     "text": [
      " 81%|████████  | 311/386 [06:17<01:29,  1.20s/it]"
     ]
    },
    {
     "name": "stdout",
     "output_type": "stream",
     "text": [
      "\"\"\n",
      "                            Sentence: 'When can I get a permit for Jeju Island?',\n",
      "                            Knowledge: '제주도->Jeju Island'\n",
      "                            \"\"\n"
     ]
    },
    {
     "name": "stderr",
     "output_type": "stream",
     "text": [
      " 81%|████████  | 312/386 [06:18<01:25,  1.15s/it]"
     ]
    },
    {
     "name": "stdout",
     "output_type": "stream",
     "text": [
      "Output: \n",
      "Sentence: 'Can we use cards anywhere in Korea?',\n",
      "Knowledge: '한국->Korea'\n"
     ]
    },
    {
     "name": "stderr",
     "output_type": "stream",
     "text": [
      " 81%|████████  | 313/386 [06:19<01:21,  1.12s/it]"
     ]
    },
    {
     "name": "stdout",
     "output_type": "stream",
     "text": [
      "\"\"\n",
      "Final Output:\n",
      "Sentence: 'Is a Korean card necessary for a refund?',\n",
      "Knowledge: '한국->Korean' \n",
      "\"\"\n"
     ]
    },
    {
     "name": "stderr",
     "output_type": "stream",
     "text": [
      " 81%|████████▏ | 314/386 [06:20<01:16,  1.07s/it]"
     ]
    },
    {
     "name": "stdout",
     "output_type": "stream",
     "text": [
      "\"\n",
      "Sentence: 'Is card issuance only available at the airport?',\n",
      "Knowledge: '공항->airport'\n",
      "\"\n"
     ]
    },
    {
     "name": "stderr",
     "output_type": "stream",
     "text": [
      " 82%|████████▏ | 315/386 [06:22<01:47,  1.51s/it]"
     ]
    },
    {
     "name": "stdout",
     "output_type": "stream",
     "text": [
      "\"\"\n",
      "Sentence: 'Is namane card the same?',\n",
      "Knowledge: 'namane->namane'\n",
      "\"\"\n"
     ]
    },
    {
     "name": "stderr",
     "output_type": "stream",
     "text": [
      " 82%|████████▏ | 316/386 [06:24<01:38,  1.40s/it]"
     ]
    },
    {
     "name": "stdout",
     "output_type": "stream",
     "text": [
      "\"\"\n",
      "                            Sentence: 'Can I take bus and subway in Korea?',\n",
      "                            Knowledge: '한국->Korea', '버스->bus', '지하철->subway'\n",
      "                            \"\"\n"
     ]
    },
    {
     "name": "stderr",
     "output_type": "stream",
     "text": [
      " 82%|████████▏ | 317/386 [06:25<01:39,  1.45s/it]"
     ]
    },
    {
     "name": "stdout",
     "output_type": "stream",
     "text": [
      "\"\"\n",
      "                            Sentence: 'Is there a difference between physical cards in Korea and cards received in Korea?',\n",
      "                            Knowledge: '국내->Korea', '한국->Korea'\n",
      "                            \"\"\n"
     ]
    },
    {
     "name": "stderr",
     "output_type": "stream",
     "text": [
      " 82%|████████▏ | 318/386 [06:27<01:41,  1.50s/it]"
     ]
    },
    {
     "name": "stdout",
     "output_type": "stream",
     "text": [
      "\"\"\n",
      "Sentence: 'I registered for a card at Namane, but why can't I register on the Korea Travel Card app?'\n",
      "Knowledge: '나마네->Namane', 'korea travel card->Korea Travel Card' \n",
      "\"\"\n"
     ]
    },
    {
     "name": "stderr",
     "output_type": "stream",
     "text": [
      " 83%|████████▎ | 319/386 [06:28<01:31,  1.37s/it]"
     ]
    },
    {
     "name": "stdout",
     "output_type": "stream",
     "text": [
      "\"\"\n",
      "                            Sentence: 'Can I take the subway and bus?',\n",
      "                            Knowledge: '지하철->subway', '버스->bus'\n",
      "                            \"\"\n"
     ]
    },
    {
     "name": "stderr",
     "output_type": "stream",
     "text": [
      " 83%|████████▎ | 320/386 [06:29<01:23,  1.26s/it]"
     ]
    },
    {
     "name": "stdout",
     "output_type": "stream",
     "text": [
      "\"\"\n",
      "Sentence: 'Do I need to get a card issued according to the purchase date on ctrip?',\n",
      "Knowledge: 'ctrip->ctrip'\n",
      "\"\"\n"
     ]
    },
    {
     "name": "stderr",
     "output_type": "stream",
     "text": [
      " 83%|████████▎ | 321/386 [06:30<01:23,  1.28s/it]"
     ]
    },
    {
     "name": "stdout",
     "output_type": "stream",
     "text": [
      "\n",
      "Output: \n",
      "Sentence: 'Can I get it at Incheon Airport T1?',\n",
      "Knowledge: '인천공항 T1->Incheon Airport T1'\n"
     ]
    },
    {
     "name": "stderr",
     "output_type": "stream",
     "text": [
      " 83%|████████▎ | 322/386 [06:31<01:16,  1.19s/it]"
     ]
    },
    {
     "name": "stdout",
     "output_type": "stream",
     "text": [
      "\n",
      "Output: \n",
      "Sentence: 'Is it usable in Jeju Island?'\n",
      "Knowledge: '제주도->Jeju Island'\n"
     ]
    },
    {
     "name": "stderr",
     "output_type": "stream",
     "text": [
      " 84%|████████▎ | 323/386 [06:32<01:10,  1.12s/it]"
     ]
    },
    {
     "name": "stdout",
     "output_type": "stream",
     "text": [
      "\"\"\n",
      "Sentence: 'If you have this card, you don't need a VISA card, right?',\n",
      "Knowledge: 'VISA->VISA'\n",
      "\"\"\n"
     ]
    },
    {
     "name": "stderr",
     "output_type": "stream",
     "text": [
      " 84%|████████▍ | 324/386 [06:33<01:11,  1.16s/it]"
     ]
    },
    {
     "name": "stdout",
     "output_type": "stream",
     "text": [
      "Output: \n",
      "Sentence: 'Is there a WeChat free commission event on the Namane APP?',\n",
      "Knowledge: '나마네->Namane', '위챗->WeChat'\n"
     ]
    },
    {
     "name": "stderr",
     "output_type": "stream",
     "text": [
      " 84%|████████▍ | 325/386 [06:34<01:10,  1.16s/it]"
     ]
    },
    {
     "name": "stdout",
     "output_type": "stream",
     "text": [
      "\"\"\n",
      "Sentence: 'Do you need to use the transportation card more than 60% to get a refund?',\n",
      "Knowledge: '60%->60%'\n",
      "\"\"\n"
     ]
    },
    {
     "name": "stderr",
     "output_type": "stream",
     "text": [
      " 84%|████████▍ | 326/386 [06:36<01:08,  1.15s/it]"
     ]
    },
    {
     "name": "stdout",
     "output_type": "stream",
     "text": [
      "\"\n",
      "Sentence: 'Can WeChat and AliPay be recharged?',\n",
      "Knowledge: '위챗->WeChat', '알리페이->AliPay'\n",
      "\"\n"
     ]
    },
    {
     "name": "stderr",
     "output_type": "stream",
     "text": [
      " 85%|████████▍ | 327/386 [06:37<01:06,  1.12s/it]"
     ]
    },
    {
     "name": "stdout",
     "output_type": "stream",
     "text": [
      "\n",
      "Output: \n",
      "Sentence: 'Are there any card issuance machines in Hongdae?',\n",
      "Knowledge: '홍대->Hongdae'\n"
     ]
    },
    {
     "name": "stderr",
     "output_type": "stream",
     "text": [
      " 85%|████████▍ | 328/386 [06:38<01:02,  1.07s/it]"
     ]
    },
    {
     "name": "stdout",
     "output_type": "stream",
     "text": [
      "\"\"\n",
      "                            Sentence: 'Is it available in Busan?',\n",
      "                            Knowledge: '위챗->WeChat'\n",
      "                            \"\"\n"
     ]
    },
    {
     "name": "stderr",
     "output_type": "stream",
     "text": [
      " 85%|████████▌ | 329/386 [06:39<01:04,  1.13s/it]"
     ]
    },
    {
     "name": "stdout",
     "output_type": "stream",
     "text": [
      "Output: \n",
      "Sentence: 'Can I get a card issued in Jeju Island?',\n",
      "Knowledge: '제주도->Jeju Island'\n"
     ]
    },
    {
     "name": "stderr",
     "output_type": "stream",
     "text": [
      " 85%|████████▌ | 330/386 [06:40<01:03,  1.13s/it]"
     ]
    },
    {
     "name": "stdout",
     "output_type": "stream",
     "text": [
      "\"\n",
      "Output: \n",
      "Sentence: 'Is it possible to recharge in Korean currency?'\n",
      "Knowledge: '원화->Korean currency'\n",
      "\"\n"
     ]
    },
    {
     "name": "stderr",
     "output_type": "stream",
     "text": [
      " 86%|████████▌ | 331/386 [06:41<01:05,  1.20s/it]"
     ]
    },
    {
     "name": "stdout",
     "output_type": "stream",
     "text": [
      "\"\"\n",
      "                            Sentence: 'Are there kiosks for issuing at Konkuk University?',\n",
      "                            Knowledge: '건대->Konkuk University'\n",
      "                            \"\"\n"
     ]
    },
    {
     "name": "stderr",
     "output_type": "stream",
     "text": [
      " 86%|████████▌ | 332/386 [06:42<01:01,  1.14s/it]"
     ]
    },
    {
     "name": "stdout",
     "output_type": "stream",
     "text": [
      "Output: \n",
      "Sentence: 'Please tell me how to download apps on Android.',\n",
      "Knowledge: '안드로이드->Android'\n"
     ]
    },
    {
     "name": "stderr",
     "output_type": "stream",
     "text": [
      " 86%|████████▋ | 333/386 [06:44<01:05,  1.23s/it]"
     ]
    },
    {
     "name": "stdout",
     "output_type": "stream",
     "text": [
      "\"\"\n",
      "Output: \n",
      "Sentence: What is the difference between Namane and KOREA TRAVEL CARD APP?\n",
      "Knowledge: '나마네->Namane', 'KOREA TRAVEL CARD->KOREA TRAVEL CARD'\"\n"
     ]
    },
    {
     "name": "stderr",
     "output_type": "stream",
     "text": [
      " 87%|████████▋ | 334/386 [06:45<01:05,  1.27s/it]"
     ]
    },
    {
     "name": "stdout",
     "output_type": "stream",
     "text": [
      "\"\"\n",
      "Output: \n",
      "Sentence: 'Can Alipay and WeChat Pay be recharged?',\n",
      "Knowledge: '알리페이->Alipay', '위챗페이->WeChat Pay'\n",
      "\"\"\n"
     ]
    },
    {
     "name": "stderr",
     "output_type": "stream",
     "text": [
      " 87%|████████▋ | 335/386 [06:46<01:01,  1.21s/it]"
     ]
    },
    {
     "name": "stdout",
     "output_type": "stream",
     "text": [
      "\"\"\n",
      "                            Sentence: 'Can I use a card around the concert hall?',\n",
      "                            Knowledge: '콘서트장->concert hall'\n",
      "                            \"\"\n"
     ]
    },
    {
     "name": "stderr",
     "output_type": "stream",
     "text": [
      " 87%|████████▋ | 336/386 [06:47<00:55,  1.11s/it]"
     ]
    },
    {
     "name": "stdout",
     "output_type": "stream",
     "text": [
      "\"\"\n",
      "Sentence: 'Is issuance available at the airport?',\n",
      "Knowledge: '공항->airport'\n",
      "\"\"\n"
     ]
    },
    {
     "name": "stderr",
     "output_type": "stream",
     "text": [
      " 87%|████████▋ | 337/386 [06:48<00:52,  1.08s/it]"
     ]
    },
    {
     "name": "stdout",
     "output_type": "stream",
     "text": [
      "\"\"\n",
      "Sentence: 'How to download Android APP?',\n",
      "Knowledge: '안드로이드->Android'\n",
      "\"\"\n"
     ]
    },
    {
     "name": "stderr",
     "output_type": "stream",
     "text": [
      " 88%|████████▊ | 338/386 [06:49<00:49,  1.03s/it]"
     ]
    },
    {
     "name": "stdout",
     "output_type": "stream",
     "text": [
      "\"\"\n",
      "Output: \n",
      "Sentence: 'Can I buy it in Korea?',\n",
      "Knowledge: '한국->Korea'\n",
      "\"\"\n"
     ]
    },
    {
     "name": "stderr",
     "output_type": "stream",
     "text": [
      " 88%|████████▊ | 339/386 [06:50<00:49,  1.06s/it]"
     ]
    },
    {
     "name": "stdout",
     "output_type": "stream",
     "text": [
      "Output: \n",
      "Sentence: 'How do I switch my balance to a transportation card on the ktc app?',\n",
      "Knowledge: 'ktc->ktc'\n"
     ]
    },
    {
     "name": "stderr",
     "output_type": "stream",
     "text": [
      " 88%|████████▊ | 340/386 [06:51<00:48,  1.04s/it]"
     ]
    },
    {
     "name": "stdout",
     "output_type": "stream",
     "text": [
      "\n",
      "Output: \n",
      "Sentence: 'Can I use it in Jeju Island?'\n",
      "Knowledge: '제주도->Jeju Island'\n"
     ]
    },
    {
     "name": "stderr",
     "output_type": "stream",
     "text": [
      " 88%|████████▊ | 341/386 [06:52<00:47,  1.06s/it]"
     ]
    },
    {
     "name": "stdout",
     "output_type": "stream",
     "text": [
      "Output: \n",
      "Sentence: 'Is it possible to charge with 50,000 won meal?'\n",
      "Knowledge: '5만원->50,000 won'\n"
     ]
    },
    {
     "name": "stderr",
     "output_type": "stream",
     "text": [
      " 89%|████████▊ | 342/386 [06:53<00:46,  1.05s/it]"
     ]
    },
    {
     "name": "stdout",
     "output_type": "stream",
     "text": [
      "Output: \n",
      "Sentence: 'Can I register NAMANE?'\n",
      "Knowledge: 'NAMANE->NAMANE'\n"
     ]
    },
    {
     "name": "stderr",
     "output_type": "stream",
     "text": [
      " 89%|████████▉ | 343/386 [06:55<00:50,  1.18s/it]"
     ]
    },
    {
     "name": "stdout",
     "output_type": "stream",
     "text": [
      "\"\"\n",
      "Output: \n",
      "Sentence: 'Where is the 7-Eleven at Kimpo Airport?',\n",
      "Knowledge: '김포공항->Kimpo Airport', '세븐일레븐->7-Eleven'\n",
      "\"\"\n"
     ]
    },
    {
     "name": "stderr",
     "output_type": "stream",
     "text": [
      " 89%|████████▉ | 344/386 [06:56<00:47,  1.13s/it]"
     ]
    },
    {
     "name": "stdout",
     "output_type": "stream",
     "text": [
      "\"\"\n",
      "Sentence: 'Can I take a taxi with a card?',\n",
      "Knowledge: '택시->taxi'\n",
      "\"\"\n"
     ]
    },
    {
     "name": "stderr",
     "output_type": "stream",
     "text": [
      " 89%|████████▉ | 345/386 [06:57<00:46,  1.13s/it]"
     ]
    },
    {
     "name": "stdout",
     "output_type": "stream",
     "text": [
      "\"\"\n",
      "                            Sentence: 'Can I recharge my transportation card balance with WeChat?',\n",
      "                            Knowledge: '위챗->WeChat'\n",
      "                            \"\"\n"
     ]
    },
    {
     "name": "stderr",
     "output_type": "stream",
     "text": [
      " 90%|████████▉ | 346/386 [06:58<00:44,  1.12s/it]"
     ]
    },
    {
     "name": "stdout",
     "output_type": "stream",
     "text": [
      "\"\"\n",
      "                            Sentence: 'Can I get issued at Incheon Airport?',\n",
      "                            Knowledge: '인천공항->Incheon Airport'\n",
      "                            \"\"\n"
     ]
    },
    {
     "name": "stderr",
     "output_type": "stream",
     "text": [
      " 90%|████████▉ | 347/386 [06:59<00:45,  1.18s/it]"
     ]
    },
    {
     "name": "stdout",
     "output_type": "stream",
     "text": [
      "\"\n",
      "Sentence: 'If I registered the card in Namane, can I not register it in the KTC app?',\n",
      "Knowledge: '나마네->Namane', 'ktc->KTC'\n",
      "\"\n"
     ]
    },
    {
     "name": "stderr",
     "output_type": "stream",
     "text": [
      " 90%|█████████ | 348/386 [07:00<00:43,  1.16s/it]"
     ]
    },
    {
     "name": "stdout",
     "output_type": "stream",
     "text": [
      "\"\"\n",
      "Output: \n",
      "Sentence: 'How do I apply for esim card?'\n",
      "Knowledge: 'esim->esim'\"\"\n"
     ]
    },
    {
     "name": "stderr",
     "output_type": "stream",
     "text": [
      " 90%|█████████ | 349/386 [07:01<00:40,  1.10s/it]"
     ]
    },
    {
     "name": "stdout",
     "output_type": "stream",
     "text": [
      "Output: \n",
      "Sentence: 'Can I use a taxi?',\n",
      "Knowledge: '택시->taxi'\n"
     ]
    },
    {
     "name": "stderr",
     "output_type": "stream",
     "text": [
      " 91%|█████████ | 350/386 [07:02<00:37,  1.05s/it]"
     ]
    },
    {
     "name": "stdout",
     "output_type": "stream",
     "text": [
      "\"\"\n",
      "Sentence: 'Can I also use the airport bus?',\n",
      "Knowledge: '공항버스->airport bus'\n",
      "\"\"\n"
     ]
    },
    {
     "name": "stderr",
     "output_type": "stream",
     "text": [
      " 91%|█████████ | 351/386 [07:03<00:35,  1.01s/it]"
     ]
    },
    {
     "name": "stdout",
     "output_type": "stream",
     "text": [
      "\"\"\n",
      "Sentence: 'Is WeChat top-up free of charge?',\n",
      "Knowledge: '위챗->WeChat'\"\n"
     ]
    },
    {
     "name": "stderr",
     "output_type": "stream",
     "text": [
      " 91%|█████████ | 352/386 [07:04<00:34,  1.01s/it]"
     ]
    },
    {
     "name": "stdout",
     "output_type": "stream",
     "text": [
      "Output: \n",
      "Sentence: 'Can I pay the city gas bill?',\n",
      "Knowledge: '도시가스->city gas'\n"
     ]
    },
    {
     "name": "stderr",
     "output_type": "stream",
     "text": [
      " 91%|█████████▏| 353/386 [07:06<00:36,  1.09s/it]"
     ]
    },
    {
     "name": "stdout",
     "output_type": "stream",
     "text": [
      "\"\n",
      "Sentence: 'Can I charge the physical card purchased on taobao after registering in China?',\n",
      "Knowledge: 'taobao->taobao', '중국->China'\n",
      "\"\n"
     ]
    },
    {
     "name": "stderr",
     "output_type": "stream",
     "text": [
      " 92%|█████████▏| 354/386 [07:07<00:36,  1.13s/it]"
     ]
    },
    {
     "name": "stdout",
     "output_type": "stream",
     "text": [
      "\"\"\n",
      "Sentence: 'Will I be able to purchase in advance when arriving in Korea tomorrow?',\n",
      "Knowledge: '내일->tomorrow', '한국->Korea'\n",
      "\"\"\n"
     ]
    },
    {
     "name": "stderr",
     "output_type": "stream",
     "text": [
      " 92%|█████████▏| 355/386 [07:08<00:36,  1.18s/it]"
     ]
    },
    {
     "name": "stdout",
     "output_type": "stream",
     "text": [
      "\"\"\n",
      "Output: \n",
      "Sentence: 'When purchasing at Shitrip, how do you select the date?',\n",
      "Knowledge: '시트립->Shitrip' \n",
      "\"\"\n"
     ]
    },
    {
     "name": "stderr",
     "output_type": "stream",
     "text": [
      " 92%|█████████▏| 356/386 [07:09<00:34,  1.16s/it]"
     ]
    },
    {
     "name": "stdout",
     "output_type": "stream",
     "text": [
      "\"\n",
      "Sentence: 'Can I top up my transportation card with WeChat?',\n",
      "Knowledge: '위챗->WeChat'\n",
      "\"\n"
     ]
    },
    {
     "name": "stderr",
     "output_type": "stream",
     "text": [
      " 92%|█████████▏| 357/386 [07:10<00:33,  1.16s/it]"
     ]
    },
    {
     "name": "stdout",
     "output_type": "stream",
     "text": [
      "Output: \n",
      "Sentence: 'Please tell me how to obtain at Incheon Airport.',\n",
      "Knowledge: '인천공항->Incheon Airport'\n"
     ]
    },
    {
     "name": "stderr",
     "output_type": "stream",
     "text": [
      " 93%|█████████▎| 358/386 [07:12<00:35,  1.28s/it]"
     ]
    },
    {
     "name": "stdout",
     "output_type": "stream",
     "text": [
      "\"\"\n",
      "                            Sentence: 'Can I receive an issue at Incheon Airport after purchasing it in Duty-free shop?',\n",
      "                            Knowledge: '시트립->Duty-free shop', '인천공항->Incheon Airport'\n",
      "                            \"\"\n"
     ]
    },
    {
     "name": "stderr",
     "output_type": "stream",
     "text": [
      " 93%|█████████▎| 359/386 [07:13<00:31,  1.17s/it]"
     ]
    },
    {
     "name": "stdout",
     "output_type": "stream",
     "text": [
      "Output: \n",
      "Sentence: 'How do you download apps on Android?',\n",
      "Knowledge: '안드로이드->Android'\n"
     ]
    },
    {
     "name": "stderr",
     "output_type": "stream",
     "text": [
      " 93%|█████████▎| 360/386 [07:14<00:30,  1.16s/it]"
     ]
    },
    {
     "name": "stdout",
     "output_type": "stream",
     "text": [
      "Output: \n",
      "Sentence: 'How can I get it at Incheon Airport?',\n",
      "Knowledge: '인천공항->Incheon Airport'\n"
     ]
    },
    {
     "name": "stderr",
     "output_type": "stream",
     "text": [
      " 94%|█████████▎| 361/386 [07:15<00:30,  1.21s/it]"
     ]
    },
    {
     "name": "stdout",
     "output_type": "stream",
     "text": [
      "\"\"\n",
      "                            Sentence: 'CU convenience store cash charging is not available.',\n",
      "                            Knowledge: 'CU->CU', '편의점->convenience store'\n",
      "                            \"\"\n"
     ]
    },
    {
     "name": "stderr",
     "output_type": "stream",
     "text": [
      " 94%|█████████▍| 362/386 [07:16<00:27,  1.16s/it]"
     ]
    },
    {
     "name": "stdout",
     "output_type": "stream",
     "text": [
      "\"\"\n",
      "Sentence: 'Can I get a card issued in Shanghai?',\n",
      "Knowledge: '상하이->Shanghai'\n",
      "\"\"\n"
     ]
    },
    {
     "name": "stderr",
     "output_type": "stream",
     "text": [
      " 94%|█████████▍| 363/386 [07:17<00:26,  1.15s/it]"
     ]
    },
    {
     "name": "stdout",
     "output_type": "stream",
     "text": [
      "\"\"\n",
      "Sentence: 'What is the difference between the Namanee app and Wa?',\n",
      "Knowledge: '나마네->Namanee'\"\"\n"
     ]
    },
    {
     "name": "stderr",
     "output_type": "stream",
     "text": [
      " 94%|█████████▍| 364/386 [07:19<00:25,  1.15s/it]"
     ]
    },
    {
     "name": "stdout",
     "output_type": "stream",
     "text": [
      "\"\n",
      "Sentence: 'Can I use transportation card and convenience store payment?',\n",
      "Knowledge: '편의점->convenience store'\n",
      "\"\n"
     ]
    },
    {
     "name": "stderr",
     "output_type": "stream",
     "text": [
      " 95%|█████████▍| 365/386 [07:20<00:23,  1.10s/it]"
     ]
    },
    {
     "name": "stdout",
     "output_type": "stream",
     "text": [
      "\n",
      "Output: \n",
      "Sentence: 'Is it only available in Korea?'\n",
      "Knowledge: '한국->Korea'\n"
     ]
    },
    {
     "name": "stderr",
     "output_type": "stream",
     "text": [
      " 95%|█████████▍| 366/386 [07:21<00:22,  1.12s/it]"
     ]
    },
    {
     "name": "stdout",
     "output_type": "stream",
     "text": [
      "\"\n",
      "Sentence: 'I recharged at the convenience store but the payment didn't go through',\n",
      "Knowledge: '편의점->convenience store'\n",
      "\"\n"
     ]
    },
    {
     "name": "stderr",
     "output_type": "stream",
     "text": [
      " 95%|█████████▌| 367/386 [07:22<00:20,  1.09s/it]"
     ]
    },
    {
     "name": "stdout",
     "output_type": "stream",
     "text": [
      "\"\"\n",
      "                            Sentence: 'KTC card registration failure inquiry',\n",
      "                            Knowledge: 'KTC->KTC'\n",
      "                            \"\"\n"
     ]
    },
    {
     "name": "stderr",
     "output_type": "stream",
     "text": [
      " 95%|█████████▌| 368/386 [07:23<00:21,  1.18s/it]"
     ]
    },
    {
     "name": "stdout",
     "output_type": "stream",
     "text": [
      "\"\"\n",
      "Output: \n",
      "Sentence: 'I paid with cash for the recharge, do I receive the refund amount through Alipay when I request a refund?'\n",
      "Knowledge: '알리페이->Alipay'\n",
      "\"\"\n"
     ]
    },
    {
     "name": "stderr",
     "output_type": "stream",
     "text": [
      " 96%|█████████▌| 369/386 [07:24<00:20,  1.21s/it]"
     ]
    },
    {
     "name": "stdout",
     "output_type": "stream",
     "text": [
      "\"\"\n",
      "Output:\n",
      "Sentence: 'Can I recharge my RMB at the kiosk?'\n",
      "Knowledge: '키오스크->kiosk', '위안->RMB'\n",
      "\"\"\n"
     ]
    },
    {
     "name": "stderr",
     "output_type": "stream",
     "text": [
      " 96%|█████████▌| 370/386 [07:26<00:18,  1.17s/it]"
     ]
    },
    {
     "name": "stdout",
     "output_type": "stream",
     "text": [
      "\"\n",
      "                            Sentence: 'What is the difference between Tmoney and cash?',\n",
      "                            Knowledge: '티머니->Tmoney'\n",
      "                            \"\n"
     ]
    },
    {
     "name": "stderr",
     "output_type": "stream",
     "text": [
      " 96%|█████████▌| 371/386 [07:27<00:16,  1.11s/it]"
     ]
    },
    {
     "name": "stdout",
     "output_type": "stream",
     "text": [
      "\"\"\n",
      "Sentence: 'Should I download the Naver app?',\n",
      "Knowledge: '나마네->Naver'\"\n"
     ]
    },
    {
     "name": "stderr",
     "output_type": "stream",
     "text": [
      " 96%|█████████▋| 372/386 [07:28<00:15,  1.14s/it]"
     ]
    },
    {
     "name": "stdout",
     "output_type": "stream",
     "text": [
      "\"\"\n",
      "Output: \n",
      "Sentence: 'Can I use subway and bus after charging transportation card?',\n",
      "Knowledge: '지하철->subway', '버스->bus'\n",
      "\"\"\n"
     ]
    },
    {
     "name": "stderr",
     "output_type": "stream",
     "text": [
      " 97%|█████████▋| 373/386 [07:29<00:14,  1.14s/it]"
     ]
    },
    {
     "name": "stdout",
     "output_type": "stream",
     "text": [
      "\"\"\n",
      "Sentence: 'Is it possible to recharge transportation cards at any convenience store?',\n",
      "Knowledge: '편의점->convenience store'\n",
      "\"\"\n"
     ]
    },
    {
     "name": "stderr",
     "output_type": "stream",
     "text": [
      " 97%|█████████▋| 374/386 [07:30<00:14,  1.17s/it]"
     ]
    },
    {
     "name": "stdout",
     "output_type": "stream",
     "text": [
      "\"\"\n",
      "Sentence: 'When you click on the WeChat recharge button, an error screen saying '001099 Invalid access' appears',\n",
      "Knowledge: '위챗->WeChat'\n",
      "\"\"\n"
     ]
    },
    {
     "name": "stderr",
     "output_type": "stream",
     "text": [
      " 97%|█████████▋| 375/386 [07:32<00:13,  1.24s/it]"
     ]
    },
    {
     "name": "stdout",
     "output_type": "stream",
     "text": [
      "\"\"\n",
      "                            Sentence: 'Can I purchase and get it issued at the airport?',\n",
      "                            Knowledge: '공항->airport'\n",
      "                            \"\"\n"
     ]
    },
    {
     "name": "stderr",
     "output_type": "stream",
     "text": [
      " 97%|█████████▋| 376/386 [07:33<00:12,  1.24s/it]"
     ]
    },
    {
     "name": "stdout",
     "output_type": "stream",
     "text": [
      "\"\"\n",
      "                            Sentence: 'Can I buy a bus ticket to Incheon Airport?',\n",
      "                            Knowledge: '인천공항->Incheon Airport'\n",
      "                            \"\"\n"
     ]
    },
    {
     "name": "stderr",
     "output_type": "stream",
     "text": [
      " 98%|█████████▊| 377/386 [07:34<00:11,  1.23s/it]"
     ]
    },
    {
     "name": "stdout",
     "output_type": "stream",
     "text": [
      "\"\"\n",
      "Output: \n",
      "Sentence: 'Can Namane registered card be exempt from fees?',\n",
      "Knowledge: '나마네->Namane'\n",
      "\"\"\n"
     ]
    },
    {
     "name": "stderr",
     "output_type": "stream",
     "text": [
      " 98%|█████████▊| 378/386 [07:35<00:10,  1.27s/it]"
     ]
    },
    {
     "name": "stdout",
     "output_type": "stream",
     "text": [
      "\"\"\n",
      "                            Sentence: 'Is it possible to recharge a transportation card with WeChat Pay in Namane?',\n",
      "                            Knowledge: '나마네->Namane', '위챗페이->WeChat Pay'\n",
      "                            \"\"\n"
     ]
    },
    {
     "name": "stderr",
     "output_type": "stream",
     "text": [
      " 98%|█████████▊| 379/386 [07:36<00:08,  1.17s/it]"
     ]
    },
    {
     "name": "stdout",
     "output_type": "stream",
     "text": [
      "\n",
      "Output: \n",
      "Sentence: 'Is there an Android APK?'\n",
      "Knowledge: '안드로이드->Android'\n"
     ]
    },
    {
     "name": "stderr",
     "output_type": "stream",
     "text": [
      " 98%|█████████▊| 380/386 [07:37<00:06,  1.15s/it]"
     ]
    },
    {
     "name": "stdout",
     "output_type": "stream",
     "text": [
      "\"\"\n",
      "Output: \n",
      "Sentence: 'Is Namane exempt from charging fees?',\n",
      "Knowledge: '나마네->Namane'\n",
      "\"\"\n"
     ]
    },
    {
     "name": "stderr",
     "output_type": "stream",
     "text": [
      " 99%|█████████▊| 381/386 [07:38<00:05,  1.09s/it]"
     ]
    },
    {
     "name": "stdout",
     "output_type": "stream",
     "text": [
      "\"\n",
      "Output: \n",
      "Sentence: 'Can I take the bus?', \n",
      "Knowledge: '버스->bus'\n",
      "\"\n"
     ]
    },
    {
     "name": "stderr",
     "output_type": "stream",
     "text": [
      " 99%|█████████▉| 382/386 [07:39<00:04,  1.09s/it]"
     ]
    },
    {
     "name": "stdout",
     "output_type": "stream",
     "text": [
      "\n",
      "Output: \n",
      "Sentence: 'How do you get it issued in Jeju Island?',\n",
      "Knowledge: '제주도->Jeju Island'\n"
     ]
    },
    {
     "name": "stderr",
     "output_type": "stream",
     "text": [
      " 99%|█████████▉| 383/386 [07:41<00:03,  1.22s/it]"
     ]
    },
    {
     "name": "stdout",
     "output_type": "stream",
     "text": [
      "\"\"\n",
      "Output: \n",
      "Sentence: 'Do I need to recharge my transportation card at NAMANE kiosk?',\n",
      "Knowledge: 'NAMANE->NAMANE', '키오스크->kiosk'\n",
      "\"\"\n"
     ]
    },
    {
     "name": "stderr",
     "output_type": "stream",
     "text": [
      " 99%|█████████▉| 384/386 [07:42<00:02,  1.17s/it]"
     ]
    },
    {
     "name": "stdout",
     "output_type": "stream",
     "text": [
      "Output: \n",
      "Sentence: 'How can I register on NAMANE?',\n",
      "Knowledge: 'NAMANE->NAMANE'\n"
     ]
    },
    {
     "name": "stderr",
     "output_type": "stream",
     "text": [
      "100%|█████████▉| 385/386 [07:43<00:01,  1.13s/it]"
     ]
    },
    {
     "name": "stdout",
     "output_type": "stream",
     "text": [
      "\"\n",
      "                            Sentence: 'Please tell me how to recharge Alipay',\n",
      "                            Knowledge: '알리페이->Alipay'\n",
      "                            \"\n"
     ]
    },
    {
     "name": "stderr",
     "output_type": "stream",
     "text": [
      "100%|██████████| 386/386 [07:45<00:00,  1.21s/it]"
     ]
    },
    {
     "name": "stdout",
     "output_type": "stream",
     "text": [
      "\"\"\n",
      "Sentence: '9491-3000-4735-4320 \n",
      " Valid thru 0828 CVC798 \n",
      " Refund inquiry',\n",
      "Knowledge: '9491-3000-4735-4320->9491-3000-4735-4320', '0828->0828', '798->798'\n",
      "\"\"\n"
     ]
    },
    {
     "name": "stderr",
     "output_type": "stream",
     "text": [
      "\n"
     ]
    }
   ],
   "source": [
    "en_df = pd.DataFrame(columns=r_food_d.columns)\n",
    "error_idx_list = []\n",
    "idx = 0\n",
    "\n",
    "for rows in tqdm(r_food_d.values):\n",
    "\n",
    "    try:\n",
    "\n",
    "        sentence = rows[1]\n",
    "        entity_name = rows[2]\n",
    "        knowledge_base = rows[3]\n",
    "        knowledge_base_list = knowledge_base.split(', ')\n",
    "        real_name_list = [kb.split('|')[0] for kb in knowledge_base_list]\n",
    "        \n",
    "        intent_cat = rows[4]\n",
    "\n",
    "        chat_completion = client.chat.completions.create(\n",
    "            messages=[\n",
    "                {\"role\": \"user\",\n",
    "                \"content\": \"\"\"\n",
    "                            1단계 - 이중 따옴표로 구분된 제공된 Sentence를 해당하는 한국 문장을 영어로 번역해줘. 영어가 있다면 그대로 사용해.\n",
    "                            \"Sentence\": \"\"{}\"\" \n",
    "\n",
    "                            2단계 - 이중 따옴표로 구분된 제공된 Knowledge 단어들을 Sentence 번역에 사용된 동일한 영어 단어를 사용해서 번역해줘.\n",
    "                            Knowledge는 따움표 안에 있는 것은 하나의 단어이므로 하나의 세트로 번역해줘.\n",
    "                            Knowledge: \"\"{}\"\".\n",
    "                        \n",
    "                            번역 결과는 \"Sentence: , \n",
    "                            Knowledge: 'Knowledge1(한국어)->Knowledge1(영어)', 'Knowledge2(한국어)->Knowledge2(영어)'\" 형태로 내보내줘.\n",
    "\n",
    "                            Input 예시는 아래와 같아.\n",
    "                            Sentence: \"\"짬뽕은 매운 거예요? 매운 게 고추짬뽕이죠?\"\",\n",
    "                            Knowledge: \"\"'짬뽕', '고추짬뽕'\"\"\n",
    "                            \n",
    "                            Output의 형식은 Example을 참고해줘.\n",
    "                            Example: \"\"\n",
    "                            Sentence: 'Is jjamppong spicy? Spicy one is gochujjambbong, right?',\n",
    "                            Knowledge: '짬뽕->jjamppong', '고추짬뽕->gochujjambbong' \n",
    "                            \n",
    "                            최종적으로 Output 내용만 답변에 넣어줘\"\"\n",
    "                            \"\"\".format(sentence, real_name_list)}\n",
    "            ],\n",
    "            model=\"gpt-3.5-turbo\"\n",
    "            )\n",
    "        \n",
    "        answer = chat_completion.choices[0].message.content\n",
    "        answer = answer.replace('(한국어)','').replace('(영어)','')\n",
    "\n",
    "        if 'Input' in answer:\n",
    "\n",
    "            answer = answer.split('Output:\\n')\n",
    "        print(answer)\n",
    "        translation = answer.split('Sentence: ')[1].split(',\\n')[0].strip(\"'\")\n",
    "        translation = translation.split('\\nKnowledge')[0].strip('\"')\n",
    "\n",
    "        translated_kb = answer.split('Knowledge: ')[1].split(', ')\n",
    "        translated_kb = answer.split('Knowledge: ')[1].replace(']','').replace('[','').strip(\"'\").split(', ')\n",
    "\n",
    "        kb_dic = {}\n",
    "\n",
    "        for _ in translated_kb:\n",
    "\n",
    "            kv = _.split('->')\n",
    "            key = kv[0].strip(\"'\")\n",
    "            value = kv[1].strip(\"'\")\n",
    "\n",
    "            kb_dic[key] = value\n",
    "\n",
    "        for _ in knowledge_base_list:\n",
    "\n",
    "            real_name = _.split('|')[0]\n",
    "\n",
    "            if real_name in ['#이름#','#주소#']:\n",
    "\n",
    "                continue\n",
    "\n",
    "            knowledge_base = knowledge_base.replace(real_name, kb_dic[real_name])\n",
    "\n",
    "        new_row = pd.DataFrame([['고객', translation, entity_name, knowledge_base, intent_cat]], columns=r_food_d.columns)\n",
    "        en_df = pd.concat([en_df,new_row], axis=0)\n",
    "        idx += 1\n",
    "\n",
    "    except:\n",
    "\n",
    "        error_idx_list.append(idx)\n",
    "        idx += 1"
   ]
  },
  {
   "cell_type": "code",
   "execution_count": 40,
   "metadata": {},
   "outputs": [],
   "source": [
    "en_df['지식베이스'] = en_df['지식베이스'].apply(lambda x:x.replace(\"'\\n\"\"\",''))\n",
    "\n",
    "en_df['지식베이스'] = en_df['지식베이스'].apply(lambda x:x.replace(' \"\"',''))\n",
    "\n",
    "en_df['지식베이스'] = en_df['지식베이스'].apply(lambda x:x.replace('\"',''))"
   ]
  },
  {
   "cell_type": "code",
   "execution_count": 80,
   "metadata": {},
   "outputs": [],
   "source": [
    "en_df.to_excel('output/TOTAL_EN.xlsx')"
   ]
  }
 ],
 "metadata": {
  "kernelspec": {
   "display_name": "thomas",
   "language": "python",
   "name": "python3"
  },
  "language_info": {
   "codemirror_mode": {
    "name": "ipython",
    "version": 3
   },
   "file_extension": ".py",
   "mimetype": "text/x-python",
   "name": "python",
   "nbconvert_exporter": "python",
   "pygments_lexer": "ipython3",
   "version": "3.12.2"
  }
 },
 "nbformat": 4,
 "nbformat_minor": 2
}
